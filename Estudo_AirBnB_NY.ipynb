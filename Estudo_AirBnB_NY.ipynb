{
  "nbformat": 4,
  "nbformat_minor": 0,
  "metadata": {
    "colab": {
      "name": "Envio_Airbnb_BeeTech.ipynb",
      "provenance": [],
      "collapsed_sections": [
        "Bd30aDG4qCaa",
        "a9VoH5F3pnp2"
      ],
      "toc_visible": true
    },
    "kernelspec": {
      "name": "python3",
      "display_name": "Python 3"
    }
  },
  "cells": [
    {
      "cell_type": "code",
      "metadata": {
        "id": "Vbi6-opRegfa",
        "colab_type": "code",
        "colab": {}
      },
      "source": [
        "import pandas as pd\n",
        "import seaborn as sns\n",
        "import numpy as np"
      ],
      "execution_count": 0,
      "outputs": []
    },
    {
      "cell_type": "code",
      "metadata": {
        "id": "9HTjp8JSfDy_",
        "colab_type": "code",
        "colab": {}
      },
      "source": [
        "# kaggle.com/dgomonov/new-york-city-airbnb-open-data\n",
        "\n",
        "airbnb = pd.read_csv('AB_NYC_2019.csv')"
      ],
      "execution_count": 0,
      "outputs": []
    },
    {
      "cell_type": "markdown",
      "metadata": {
        "id": "ReVGbmsDXV3P",
        "colab_type": "text"
      },
      "source": [
        "# Analisando o comportamento das variáveis\n",
        "## Outliers e NaN"
      ]
    },
    {
      "cell_type": "markdown",
      "metadata": {
        "id": "fOY8bN8ufUCN",
        "colab_type": "text"
      },
      "source": [
        "Primeiramente vamos analisar a estrutura da Base, entender se existem valores nulos e quais são esses valores."
      ]
    },
    {
      "cell_type": "code",
      "metadata": {
        "id": "HRnQjJXcfKSN",
        "colab_type": "code",
        "outputId": "840488f9-899c-4009-d272-89625f16a7ba",
        "colab": {
          "base_uri": "https://localhost:8080/",
          "height": 403
        }
      },
      "source": [
        "airbnb.info()"
      ],
      "execution_count": 0,
      "outputs": [
        {
          "output_type": "stream",
          "text": [
            "<class 'pandas.core.frame.DataFrame'>\n",
            "RangeIndex: 48895 entries, 0 to 48894\n",
            "Data columns (total 16 columns):\n",
            "id                                48895 non-null int64\n",
            "name                              48879 non-null object\n",
            "host_id                           48895 non-null int64\n",
            "host_name                         48874 non-null object\n",
            "neighbourhood_group               48895 non-null object\n",
            "neighbourhood                     48895 non-null object\n",
            "latitude                          48895 non-null float64\n",
            "longitude                         48895 non-null float64\n",
            "room_type                         48895 non-null object\n",
            "price                             48895 non-null int64\n",
            "minimum_nights                    48895 non-null int64\n",
            "number_of_reviews                 48895 non-null int64\n",
            "last_review                       38843 non-null object\n",
            "reviews_per_month                 38843 non-null float64\n",
            "calculated_host_listings_count    48895 non-null int64\n",
            "availability_365                  48895 non-null int64\n",
            "dtypes: float64(3), int64(7), object(6)\n",
            "memory usage: 6.0+ MB\n"
          ],
          "name": "stdout"
        }
      ]
    },
    {
      "cell_type": "markdown",
      "metadata": {
        "id": "-mNzy7P9Pzxo",
        "colab_type": "text"
      },
      "source": [
        "## Questão 2 "
      ]
    },
    {
      "cell_type": "markdown",
      "metadata": {
        "id": "r7UNDd11fhFp",
        "colab_type": "text"
      },
      "source": [
        "Verificou-se que a base possui 48.895 registros, porém os campos 'name, host_name', 'last_review' e 'review_per_month', possuem alguns valores missing (null).\n",
        "\n",
        "Avaliando a documentação da base podemos observar que os valores relacionados ao nome dos usuáriuos pode ser ignorado, uma vez que o 'host_id' pode nos auxiliar na relação das informações por usuário.\n",
        "\n",
        "As variáveis relacionadas a review precisam de mais análise. "
      ]
    },
    {
      "cell_type": "code",
      "metadata": {
        "id": "WW1pnD3YfaM4",
        "colab_type": "code",
        "outputId": "fb798ad5-4184-4a1b-c6c4-2e167bf88b09",
        "colab": {
          "base_uri": "https://localhost:8080/",
          "height": 320
        }
      },
      "source": [
        "#Vamos começar analisando os reviews_per_month\n",
        "select = airbnb.reviews_per_month.isna()\n",
        "n_airbnb = airbnb[select]\n",
        "n_airbnb.describe()"
      ],
      "execution_count": 0,
      "outputs": [
        {
          "output_type": "execute_result",
          "data": {
            "text/html": [
              "<div>\n",
              "<style scoped>\n",
              "    .dataframe tbody tr th:only-of-type {\n",
              "        vertical-align: middle;\n",
              "    }\n",
              "\n",
              "    .dataframe tbody tr th {\n",
              "        vertical-align: top;\n",
              "    }\n",
              "\n",
              "    .dataframe thead th {\n",
              "        text-align: right;\n",
              "    }\n",
              "</style>\n",
              "<table border=\"1\" class=\"dataframe\">\n",
              "  <thead>\n",
              "    <tr style=\"text-align: right;\">\n",
              "      <th></th>\n",
              "      <th>id</th>\n",
              "      <th>host_id</th>\n",
              "      <th>latitude</th>\n",
              "      <th>longitude</th>\n",
              "      <th>price</th>\n",
              "      <th>minimum_nights</th>\n",
              "      <th>number_of_reviews</th>\n",
              "      <th>reviews_per_month</th>\n",
              "      <th>calculated_host_listings_count</th>\n",
              "      <th>availability_365</th>\n",
              "    </tr>\n",
              "  </thead>\n",
              "  <tbody>\n",
              "    <tr>\n",
              "      <th>count</th>\n",
              "      <td>1.005200e+04</td>\n",
              "      <td>1.005200e+04</td>\n",
              "      <td>10052.000000</td>\n",
              "      <td>10052.000000</td>\n",
              "      <td>10052.000000</td>\n",
              "      <td>10052.000000</td>\n",
              "      <td>10052.0</td>\n",
              "      <td>0.0</td>\n",
              "      <td>10052.000000</td>\n",
              "      <td>10052.000000</td>\n",
              "    </tr>\n",
              "    <tr>\n",
              "      <th>mean</th>\n",
              "      <td>2.257484e+07</td>\n",
              "      <td>8.068437e+07</td>\n",
              "      <td>40.732099</td>\n",
              "      <td>-73.956117</td>\n",
              "      <td>192.919021</td>\n",
              "      <td>11.519797</td>\n",
              "      <td>0.0</td>\n",
              "      <td>NaN</td>\n",
              "      <td>14.793275</td>\n",
              "      <td>104.660466</td>\n",
              "    </tr>\n",
              "    <tr>\n",
              "      <th>std</th>\n",
              "      <td>1.135563e+07</td>\n",
              "      <td>8.712593e+07</td>\n",
              "      <td>0.052598</td>\n",
              "      <td>0.043796</td>\n",
              "      <td>358.653017</td>\n",
              "      <td>29.207928</td>\n",
              "      <td>0.0</td>\n",
              "      <td>NaN</td>\n",
              "      <td>50.363637</td>\n",
              "      <td>139.072127</td>\n",
              "    </tr>\n",
              "    <tr>\n",
              "      <th>min</th>\n",
              "      <td>3.647000e+03</td>\n",
              "      <td>4.632000e+03</td>\n",
              "      <td>40.499790</td>\n",
              "      <td>-74.242850</td>\n",
              "      <td>0.000000</td>\n",
              "      <td>1.000000</td>\n",
              "      <td>0.0</td>\n",
              "      <td>NaN</td>\n",
              "      <td>1.000000</td>\n",
              "      <td>0.000000</td>\n",
              "    </tr>\n",
              "    <tr>\n",
              "      <th>25%</th>\n",
              "      <td>1.208404e+07</td>\n",
              "      <td>1.207519e+07</td>\n",
              "      <td>40.697570</td>\n",
              "      <td>-73.984758</td>\n",
              "      <td>70.000000</td>\n",
              "      <td>1.000000</td>\n",
              "      <td>0.0</td>\n",
              "      <td>NaN</td>\n",
              "      <td>1.000000</td>\n",
              "      <td>0.000000</td>\n",
              "    </tr>\n",
              "    <tr>\n",
              "      <th>50%</th>\n",
              "      <td>2.337757e+07</td>\n",
              "      <td>3.979538e+07</td>\n",
              "      <td>40.728870</td>\n",
              "      <td>-73.960175</td>\n",
              "      <td>120.000000</td>\n",
              "      <td>3.000000</td>\n",
              "      <td>0.0</td>\n",
              "      <td>NaN</td>\n",
              "      <td>1.000000</td>\n",
              "      <td>6.000000</td>\n",
              "    </tr>\n",
              "    <tr>\n",
              "      <th>75%</th>\n",
              "      <td>3.402092e+07</td>\n",
              "      <td>1.330001e+08</td>\n",
              "      <td>40.763643</td>\n",
              "      <td>-73.939877</td>\n",
              "      <td>200.000000</td>\n",
              "      <td>14.000000</td>\n",
              "      <td>0.0</td>\n",
              "      <td>NaN</td>\n",
              "      <td>2.000000</td>\n",
              "      <td>214.250000</td>\n",
              "    </tr>\n",
              "    <tr>\n",
              "      <th>max</th>\n",
              "      <td>3.648724e+07</td>\n",
              "      <td>2.743213e+08</td>\n",
              "      <td>40.911690</td>\n",
              "      <td>-73.716900</td>\n",
              "      <td>10000.000000</td>\n",
              "      <td>1000.000000</td>\n",
              "      <td>0.0</td>\n",
              "      <td>NaN</td>\n",
              "      <td>327.000000</td>\n",
              "      <td>365.000000</td>\n",
              "    </tr>\n",
              "  </tbody>\n",
              "</table>\n",
              "</div>"
            ],
            "text/plain": [
              "                 id  ...  availability_365\n",
              "count  1.005200e+04  ...      10052.000000\n",
              "mean   2.257484e+07  ...        104.660466\n",
              "std    1.135563e+07  ...        139.072127\n",
              "min    3.647000e+03  ...          0.000000\n",
              "25%    1.208404e+07  ...          0.000000\n",
              "50%    2.337757e+07  ...          6.000000\n",
              "75%    3.402092e+07  ...        214.250000\n",
              "max    3.648724e+07  ...        365.000000\n",
              "\n",
              "[8 rows x 10 columns]"
            ]
          },
          "metadata": {
            "tags": []
          },
          "execution_count": 86
        }
      ]
    },
    {
      "cell_type": "code",
      "metadata": {
        "id": "kRPednnrgdfK",
        "colab_type": "code",
        "outputId": "6e20097c-914a-4df1-dbee-27a378f3872f",
        "colab": {
          "base_uri": "https://localhost:8080/",
          "height": 320
        }
      },
      "source": [
        "#Vamos repetir a análise para a ultima avaliação\n",
        "select = airbnb.last_review.isna()\n",
        "n2_airbnb = airbnb[select]\n",
        "n2_airbnb.describe()"
      ],
      "execution_count": 0,
      "outputs": [
        {
          "output_type": "execute_result",
          "data": {
            "text/html": [
              "<div>\n",
              "<style scoped>\n",
              "    .dataframe tbody tr th:only-of-type {\n",
              "        vertical-align: middle;\n",
              "    }\n",
              "\n",
              "    .dataframe tbody tr th {\n",
              "        vertical-align: top;\n",
              "    }\n",
              "\n",
              "    .dataframe thead th {\n",
              "        text-align: right;\n",
              "    }\n",
              "</style>\n",
              "<table border=\"1\" class=\"dataframe\">\n",
              "  <thead>\n",
              "    <tr style=\"text-align: right;\">\n",
              "      <th></th>\n",
              "      <th>id</th>\n",
              "      <th>host_id</th>\n",
              "      <th>latitude</th>\n",
              "      <th>longitude</th>\n",
              "      <th>price</th>\n",
              "      <th>minimum_nights</th>\n",
              "      <th>number_of_reviews</th>\n",
              "      <th>reviews_per_month</th>\n",
              "      <th>calculated_host_listings_count</th>\n",
              "      <th>availability_365</th>\n",
              "    </tr>\n",
              "  </thead>\n",
              "  <tbody>\n",
              "    <tr>\n",
              "      <th>count</th>\n",
              "      <td>1.005200e+04</td>\n",
              "      <td>1.005200e+04</td>\n",
              "      <td>10052.000000</td>\n",
              "      <td>10052.000000</td>\n",
              "      <td>10052.000000</td>\n",
              "      <td>10052.000000</td>\n",
              "      <td>10052.0</td>\n",
              "      <td>0.0</td>\n",
              "      <td>10052.000000</td>\n",
              "      <td>10052.000000</td>\n",
              "    </tr>\n",
              "    <tr>\n",
              "      <th>mean</th>\n",
              "      <td>2.257484e+07</td>\n",
              "      <td>8.068437e+07</td>\n",
              "      <td>40.732099</td>\n",
              "      <td>-73.956117</td>\n",
              "      <td>192.919021</td>\n",
              "      <td>11.519797</td>\n",
              "      <td>0.0</td>\n",
              "      <td>NaN</td>\n",
              "      <td>14.793275</td>\n",
              "      <td>104.660466</td>\n",
              "    </tr>\n",
              "    <tr>\n",
              "      <th>std</th>\n",
              "      <td>1.135563e+07</td>\n",
              "      <td>8.712593e+07</td>\n",
              "      <td>0.052598</td>\n",
              "      <td>0.043796</td>\n",
              "      <td>358.653017</td>\n",
              "      <td>29.207928</td>\n",
              "      <td>0.0</td>\n",
              "      <td>NaN</td>\n",
              "      <td>50.363637</td>\n",
              "      <td>139.072127</td>\n",
              "    </tr>\n",
              "    <tr>\n",
              "      <th>min</th>\n",
              "      <td>3.647000e+03</td>\n",
              "      <td>4.632000e+03</td>\n",
              "      <td>40.499790</td>\n",
              "      <td>-74.242850</td>\n",
              "      <td>0.000000</td>\n",
              "      <td>1.000000</td>\n",
              "      <td>0.0</td>\n",
              "      <td>NaN</td>\n",
              "      <td>1.000000</td>\n",
              "      <td>0.000000</td>\n",
              "    </tr>\n",
              "    <tr>\n",
              "      <th>25%</th>\n",
              "      <td>1.208404e+07</td>\n",
              "      <td>1.207519e+07</td>\n",
              "      <td>40.697570</td>\n",
              "      <td>-73.984758</td>\n",
              "      <td>70.000000</td>\n",
              "      <td>1.000000</td>\n",
              "      <td>0.0</td>\n",
              "      <td>NaN</td>\n",
              "      <td>1.000000</td>\n",
              "      <td>0.000000</td>\n",
              "    </tr>\n",
              "    <tr>\n",
              "      <th>50%</th>\n",
              "      <td>2.337757e+07</td>\n",
              "      <td>3.979538e+07</td>\n",
              "      <td>40.728870</td>\n",
              "      <td>-73.960175</td>\n",
              "      <td>120.000000</td>\n",
              "      <td>3.000000</td>\n",
              "      <td>0.0</td>\n",
              "      <td>NaN</td>\n",
              "      <td>1.000000</td>\n",
              "      <td>6.000000</td>\n",
              "    </tr>\n",
              "    <tr>\n",
              "      <th>75%</th>\n",
              "      <td>3.402092e+07</td>\n",
              "      <td>1.330001e+08</td>\n",
              "      <td>40.763643</td>\n",
              "      <td>-73.939877</td>\n",
              "      <td>200.000000</td>\n",
              "      <td>14.000000</td>\n",
              "      <td>0.0</td>\n",
              "      <td>NaN</td>\n",
              "      <td>2.000000</td>\n",
              "      <td>214.250000</td>\n",
              "    </tr>\n",
              "    <tr>\n",
              "      <th>max</th>\n",
              "      <td>3.648724e+07</td>\n",
              "      <td>2.743213e+08</td>\n",
              "      <td>40.911690</td>\n",
              "      <td>-73.716900</td>\n",
              "      <td>10000.000000</td>\n",
              "      <td>1000.000000</td>\n",
              "      <td>0.0</td>\n",
              "      <td>NaN</td>\n",
              "      <td>327.000000</td>\n",
              "      <td>365.000000</td>\n",
              "    </tr>\n",
              "  </tbody>\n",
              "</table>\n",
              "</div>"
            ],
            "text/plain": [
              "                 id  ...  availability_365\n",
              "count  1.005200e+04  ...      10052.000000\n",
              "mean   2.257484e+07  ...        104.660466\n",
              "std    1.135563e+07  ...        139.072127\n",
              "min    3.647000e+03  ...          0.000000\n",
              "25%    1.208404e+07  ...          0.000000\n",
              "50%    2.337757e+07  ...          6.000000\n",
              "75%    3.402092e+07  ...        214.250000\n",
              "max    3.648724e+07  ...        365.000000\n",
              "\n",
              "[8 rows x 10 columns]"
            ]
          },
          "metadata": {
            "tags": []
          },
          "execution_count": 87
        }
      ]
    },
    {
      "cell_type": "markdown",
      "metadata": {
        "id": "K-raXG_JgxTn",
        "colab_type": "text"
      },
      "source": [
        "Podemos avaliar que os casos em que existem valores nulos, são os casos onde ainda não houve avaliação para o imóvel (number_of_reviews = 0).\n",
        "\n",
        "Como os campos relacionados estão missing, podemos subistituir os NaN por 0 a fim de completar as informações da base. \n",
        "\n",
        "Caso as variáveis fossem valores faltantes ao invés de não coletados, poderia fazer uma substituição pela mediana ou uma interpolação pelos resultados visinhos ou semelhantes, o caso aqui encontrado é mais simples.\n",
        "\n",
        "Vamos também selecionar apenas os campos de interesse, ou seja retirar os campos de nome da base"
      ]
    },
    {
      "cell_type": "code",
      "metadata": {
        "id": "Oe5dWC_8guXQ",
        "colab_type": "code",
        "colab": {}
      },
      "source": [
        "airbnb.fillna(0, inplace = True)"
      ],
      "execution_count": 0,
      "outputs": []
    },
    {
      "cell_type": "code",
      "metadata": {
        "id": "KdVjpHy4hKPi",
        "colab_type": "code",
        "outputId": "e3b41e14-f5d2-423f-a4d9-f59cf1e36cbd",
        "colab": {
          "base_uri": "https://localhost:8080/",
          "height": 403
        }
      },
      "source": [
        "airbnb.info()"
      ],
      "execution_count": 0,
      "outputs": [
        {
          "output_type": "stream",
          "text": [
            "<class 'pandas.core.frame.DataFrame'>\n",
            "RangeIndex: 48895 entries, 0 to 48894\n",
            "Data columns (total 16 columns):\n",
            "id                                48895 non-null int64\n",
            "name                              48895 non-null object\n",
            "host_id                           48895 non-null int64\n",
            "host_name                         48895 non-null object\n",
            "neighbourhood_group               48895 non-null object\n",
            "neighbourhood                     48895 non-null object\n",
            "latitude                          48895 non-null float64\n",
            "longitude                         48895 non-null float64\n",
            "room_type                         48895 non-null object\n",
            "price                             48895 non-null int64\n",
            "minimum_nights                    48895 non-null int64\n",
            "number_of_reviews                 48895 non-null int64\n",
            "last_review                       48895 non-null object\n",
            "reviews_per_month                 48895 non-null float64\n",
            "calculated_host_listings_count    48895 non-null int64\n",
            "availability_365                  48895 non-null int64\n",
            "dtypes: float64(3), int64(7), object(6)\n",
            "memory usage: 6.0+ MB\n"
          ],
          "name": "stdout"
        }
      ]
    },
    {
      "cell_type": "code",
      "metadata": {
        "id": "Gfh5Z9w6j0r4",
        "colab_type": "code",
        "colab": {}
      },
      "source": [
        "airbnb_limpo = airbnb.drop(columns = [\"name\", \"host_name\"], axis=1)"
      ],
      "execution_count": 0,
      "outputs": []
    },
    {
      "cell_type": "code",
      "metadata": {
        "id": "WAXvpQjGkQMI",
        "colab_type": "code",
        "outputId": "fc133a1d-0292-4264-c478-0bdf55b7d567",
        "colab": {
          "base_uri": "https://localhost:8080/",
          "height": 366
        }
      },
      "source": [
        "airbnb_limpo.info()"
      ],
      "execution_count": 0,
      "outputs": [
        {
          "output_type": "stream",
          "text": [
            "<class 'pandas.core.frame.DataFrame'>\n",
            "RangeIndex: 48895 entries, 0 to 48894\n",
            "Data columns (total 14 columns):\n",
            "id                                48895 non-null int64\n",
            "host_id                           48895 non-null int64\n",
            "neighbourhood_group               48895 non-null object\n",
            "neighbourhood                     48895 non-null object\n",
            "latitude                          48895 non-null float64\n",
            "longitude                         48895 non-null float64\n",
            "room_type                         48895 non-null object\n",
            "price                             48895 non-null int64\n",
            "minimum_nights                    48895 non-null int64\n",
            "number_of_reviews                 48895 non-null int64\n",
            "last_review                       48895 non-null object\n",
            "reviews_per_month                 48895 non-null float64\n",
            "calculated_host_listings_count    48895 non-null int64\n",
            "availability_365                  48895 non-null int64\n",
            "dtypes: float64(3), int64(7), object(4)\n",
            "memory usage: 5.2+ MB\n"
          ],
          "name": "stdout"
        }
      ]
    },
    {
      "cell_type": "markdown",
      "metadata": {
        "id": "hXfMV48MQF1T",
        "colab_type": "text"
      },
      "source": [
        "## Questão 1"
      ]
    },
    {
      "cell_type": "markdown",
      "metadata": {
        "id": "5CjJNK7lR2Dt",
        "colab_type": "text"
      },
      "source": [
        "Para começar a analise das variáveis, vamos olhar o comportamento das variáveis usando o *describe*"
      ]
    },
    {
      "cell_type": "code",
      "metadata": {
        "id": "DcC1I8ejQqOV",
        "colab_type": "code",
        "outputId": "6972a272-6ee7-4a11-ef9b-4091b1ac0ab7",
        "colab": {
          "base_uri": "https://localhost:8080/",
          "height": 320
        }
      },
      "source": [
        "airbnb_limpo.describe()"
      ],
      "execution_count": 0,
      "outputs": [
        {
          "output_type": "execute_result",
          "data": {
            "text/html": [
              "<div>\n",
              "<style scoped>\n",
              "    .dataframe tbody tr th:only-of-type {\n",
              "        vertical-align: middle;\n",
              "    }\n",
              "\n",
              "    .dataframe tbody tr th {\n",
              "        vertical-align: top;\n",
              "    }\n",
              "\n",
              "    .dataframe thead th {\n",
              "        text-align: right;\n",
              "    }\n",
              "</style>\n",
              "<table border=\"1\" class=\"dataframe\">\n",
              "  <thead>\n",
              "    <tr style=\"text-align: right;\">\n",
              "      <th></th>\n",
              "      <th>id</th>\n",
              "      <th>host_id</th>\n",
              "      <th>latitude</th>\n",
              "      <th>longitude</th>\n",
              "      <th>price</th>\n",
              "      <th>minimum_nights</th>\n",
              "      <th>number_of_reviews</th>\n",
              "      <th>reviews_per_month</th>\n",
              "      <th>calculated_host_listings_count</th>\n",
              "      <th>availability_365</th>\n",
              "    </tr>\n",
              "  </thead>\n",
              "  <tbody>\n",
              "    <tr>\n",
              "      <th>count</th>\n",
              "      <td>4.889500e+04</td>\n",
              "      <td>4.889500e+04</td>\n",
              "      <td>48895.000000</td>\n",
              "      <td>48895.000000</td>\n",
              "      <td>48895.000000</td>\n",
              "      <td>48895.000000</td>\n",
              "      <td>48895.000000</td>\n",
              "      <td>48895.000000</td>\n",
              "      <td>48895.000000</td>\n",
              "      <td>48895.000000</td>\n",
              "    </tr>\n",
              "    <tr>\n",
              "      <th>mean</th>\n",
              "      <td>1.901714e+07</td>\n",
              "      <td>6.762001e+07</td>\n",
              "      <td>40.728949</td>\n",
              "      <td>-73.952170</td>\n",
              "      <td>152.720687</td>\n",
              "      <td>7.029962</td>\n",
              "      <td>23.274466</td>\n",
              "      <td>1.090910</td>\n",
              "      <td>7.143982</td>\n",
              "      <td>112.781327</td>\n",
              "    </tr>\n",
              "    <tr>\n",
              "      <th>std</th>\n",
              "      <td>1.098311e+07</td>\n",
              "      <td>7.861097e+07</td>\n",
              "      <td>0.054530</td>\n",
              "      <td>0.046157</td>\n",
              "      <td>240.154170</td>\n",
              "      <td>20.510550</td>\n",
              "      <td>44.550582</td>\n",
              "      <td>1.597283</td>\n",
              "      <td>32.952519</td>\n",
              "      <td>131.622289</td>\n",
              "    </tr>\n",
              "    <tr>\n",
              "      <th>min</th>\n",
              "      <td>2.539000e+03</td>\n",
              "      <td>2.438000e+03</td>\n",
              "      <td>40.499790</td>\n",
              "      <td>-74.244420</td>\n",
              "      <td>0.000000</td>\n",
              "      <td>1.000000</td>\n",
              "      <td>0.000000</td>\n",
              "      <td>0.000000</td>\n",
              "      <td>1.000000</td>\n",
              "      <td>0.000000</td>\n",
              "    </tr>\n",
              "    <tr>\n",
              "      <th>25%</th>\n",
              "      <td>9.471945e+06</td>\n",
              "      <td>7.822033e+06</td>\n",
              "      <td>40.690100</td>\n",
              "      <td>-73.983070</td>\n",
              "      <td>69.000000</td>\n",
              "      <td>1.000000</td>\n",
              "      <td>1.000000</td>\n",
              "      <td>0.040000</td>\n",
              "      <td>1.000000</td>\n",
              "      <td>0.000000</td>\n",
              "    </tr>\n",
              "    <tr>\n",
              "      <th>50%</th>\n",
              "      <td>1.967728e+07</td>\n",
              "      <td>3.079382e+07</td>\n",
              "      <td>40.723070</td>\n",
              "      <td>-73.955680</td>\n",
              "      <td>106.000000</td>\n",
              "      <td>3.000000</td>\n",
              "      <td>5.000000</td>\n",
              "      <td>0.370000</td>\n",
              "      <td>1.000000</td>\n",
              "      <td>45.000000</td>\n",
              "    </tr>\n",
              "    <tr>\n",
              "      <th>75%</th>\n",
              "      <td>2.915218e+07</td>\n",
              "      <td>1.074344e+08</td>\n",
              "      <td>40.763115</td>\n",
              "      <td>-73.936275</td>\n",
              "      <td>175.000000</td>\n",
              "      <td>5.000000</td>\n",
              "      <td>24.000000</td>\n",
              "      <td>1.580000</td>\n",
              "      <td>2.000000</td>\n",
              "      <td>227.000000</td>\n",
              "    </tr>\n",
              "    <tr>\n",
              "      <th>max</th>\n",
              "      <td>3.648724e+07</td>\n",
              "      <td>2.743213e+08</td>\n",
              "      <td>40.913060</td>\n",
              "      <td>-73.712990</td>\n",
              "      <td>10000.000000</td>\n",
              "      <td>1250.000000</td>\n",
              "      <td>629.000000</td>\n",
              "      <td>58.500000</td>\n",
              "      <td>327.000000</td>\n",
              "      <td>365.000000</td>\n",
              "    </tr>\n",
              "  </tbody>\n",
              "</table>\n",
              "</div>"
            ],
            "text/plain": [
              "                 id  ...  availability_365\n",
              "count  4.889500e+04  ...      48895.000000\n",
              "mean   1.901714e+07  ...        112.781327\n",
              "std    1.098311e+07  ...        131.622289\n",
              "min    2.539000e+03  ...          0.000000\n",
              "25%    9.471945e+06  ...          0.000000\n",
              "50%    1.967728e+07  ...         45.000000\n",
              "75%    2.915218e+07  ...        227.000000\n",
              "max    3.648724e+07  ...        365.000000\n",
              "\n",
              "[8 rows x 10 columns]"
            ]
          },
          "metadata": {
            "tags": []
          },
          "execution_count": 92
        }
      ]
    },
    {
      "cell_type": "markdown",
      "metadata": {
        "id": "4ILccc_Dkj8y",
        "colab_type": "text"
      },
      "source": [
        "Agora vamos analisar as variáveis de interesse para verificar valores possivelmente 'ruins', com uma variação muito grande, vamos analisar os dados **preço**, **latitude/longitude** e **número de noites**"
      ]
    },
    {
      "cell_type": "markdown",
      "metadata": {
        "id": "xE94phVMRvHM",
        "colab_type": "text"
      },
      "source": [
        "### Número de Noites"
      ]
    },
    {
      "cell_type": "code",
      "metadata": {
        "id": "uA2y1Ixdkp6x",
        "colab_type": "code",
        "colab": {}
      },
      "source": [
        "%matplotlib inline\n",
        "import matplotlib.pyplot as plt\n",
        "plt.rc('figure', figsize = (15,10))"
      ],
      "execution_count": 0,
      "outputs": []
    },
    {
      "cell_type": "code",
      "metadata": {
        "id": "1ARJnRRYku7O",
        "colab_type": "code",
        "outputId": "37e8d98d-e6a2-4451-a2d5-4795754b92a8",
        "colab": {
          "base_uri": "https://localhost:8080/",
          "height": 614
        }
      },
      "source": [
        "airbnb_limpo.boxplot(['minimum_nights'])"
      ],
      "execution_count": 0,
      "outputs": [
        {
          "output_type": "execute_result",
          "data": {
            "text/plain": [
              "<matplotlib.axes._subplots.AxesSubplot at 0x7f1bddccb208>"
            ]
          },
          "metadata": {
            "tags": []
          },
          "execution_count": 94
        },
        {
          "output_type": "display_data",
          "data": {
            "image/png": "[encoded data removed]",
            "text/plain": [
              "<Figure size 1080x720 with 1 Axes>"
            ]
          },
          "metadata": {
            "tags": []
          }
        }
      ]
    },
    {
      "cell_type": "code",
      "metadata": {
        "id": "u_Irnuoam3TL",
        "colab_type": "code",
        "outputId": "a9e4a73d-8552-497e-ae19-729f51201674",
        "colab": {
          "base_uri": "https://localhost:8080/",
          "height": 182
        }
      },
      "source": [
        "airbnb_limpo.minimum_nights.describe()"
      ],
      "execution_count": 0,
      "outputs": [
        {
          "output_type": "execute_result",
          "data": {
            "text/plain": [
              "count    48895.000000\n",
              "mean         7.029962\n",
              "std         20.510550\n",
              "min          1.000000\n",
              "25%          1.000000\n",
              "50%          3.000000\n",
              "75%          5.000000\n",
              "max       1250.000000\n",
              "Name: minimum_nights, dtype: float64"
            ]
          },
          "metadata": {
            "tags": []
          },
          "execution_count": 95
        }
      ]
    },
    {
      "cell_type": "markdown",
      "metadata": {
        "id": "ssKBxU0Wk1oQ",
        "colab_type": "text"
      },
      "source": [
        "Podemos notar que existem 'outliers' nessa variável, não é de se esperar um máximo de 1250 noites para uma estadia em um Airbnb. \n",
        "Vamos fazer uma análise a mais: conhecendo o perfil da base, seria interessante notar se o mínimo de noites pode ter alguma relação com outra variável como tipo de quarto. É de se esperar que para moradias maiores o tempo de estadia possa ser maior. \n",
        "Portanto para tratar esses dados vamos fazer a analise considerando a dimensão tipo de quarto também."
      ]
    },
    {
      "cell_type": "code",
      "metadata": {
        "id": "ra89CQ13lKPy",
        "colab_type": "code",
        "outputId": "f31f207c-b1f9-40e2-d3f7-cd47cd91f5b7",
        "colab": {
          "base_uri": "https://localhost:8080/",
          "height": 678
        }
      },
      "source": [
        "airbnb_limpo.boxplot(['minimum_nights'], by = ['room_type'])"
      ],
      "execution_count": 0,
      "outputs": [
        {
          "output_type": "execute_result",
          "data": {
            "text/plain": [
              "<matplotlib.axes._subplots.AxesSubplot at 0x7f1bddcbf4e0>"
            ]
          },
          "metadata": {
            "tags": []
          },
          "execution_count": 96
        },
        {
          "output_type": "display_data",
          "data": {
            "image/png": "[encoded data removed]",
            "text/plain": [
              "<Figure size 1080x720 with 1 Axes>"
            ]
          },
          "metadata": {
            "tags": []
          }
        }
      ]
    },
    {
      "cell_type": "markdown",
      "metadata": {
        "id": "l9qx0PXznFMH",
        "colab_type": "text"
      },
      "source": [
        "Vamos utilizar a regra do intervalo interquatílico para limpar os outliers desse campo, em relação ao tipo de quarto, para facilitar a analise."
      ]
    },
    {
      "cell_type": "code",
      "metadata": {
        "id": "yZ1mjlrclUin",
        "colab_type": "code",
        "colab": {}
      },
      "source": [
        "grupo_tipo = airbnb_limpo.groupby('room_type')['minimum_nights']\n",
        "Q1 = grupo_tipo.quantile(.25).round(2)\n",
        "Q3 = grupo_tipo.quantile(.75).round(2)\n",
        "IIQ = (Q3 - Q1).round(2)\n",
        "limite_inferior = (Q1 - 1.5*IIQ).round(2)\n",
        "limite_superior = (Q3 + 1.5*IIQ).round(2)"
      ],
      "execution_count": 0,
      "outputs": []
    },
    {
      "cell_type": "code",
      "metadata": {
        "id": "HXOgy7CQlgNW",
        "colab_type": "code",
        "colab": {}
      },
      "source": [
        "dados_minimo_noites = pd.DataFrame()\n",
        "for tipo in grupo_tipo.groups.keys():\n",
        "    eh_tipo = airbnb_limpo['room_type'] == tipo\n",
        "    eh_dentro_limite = (airbnb_limpo['minimum_nights'] >= limite_inferior[tipo]) & (airbnb_limpo['minimum_nights'] <= limite_superior[tipo])\n",
        "    selecao = eh_tipo & eh_dentro_limite\n",
        "    dados_selecao = airbnb_limpo[selecao]\n",
        "    dados_minimo_noites = pd.concat([dados_minimo_noites, dados_selecao])"
      ],
      "execution_count": 0,
      "outputs": []
    },
    {
      "cell_type": "code",
      "metadata": {
        "id": "n7TtnsmRlhrZ",
        "colab_type": "code",
        "outputId": "e303b2c1-5f1e-43f9-d0e2-57972878c4a3",
        "colab": {
          "base_uri": "https://localhost:8080/",
          "height": 678
        }
      },
      "source": [
        "dados_minimo_noites.boxplot(['minimum_nights'], by = ['room_type'])"
      ],
      "execution_count": 0,
      "outputs": [
        {
          "output_type": "execute_result",
          "data": {
            "text/plain": [
              "<matplotlib.axes._subplots.AxesSubplot at 0x7f1bddd1ca90>"
            ]
          },
          "metadata": {
            "tags": []
          },
          "execution_count": 99
        },
        {
          "output_type": "display_data",
          "data": {
            "image/png": "[encoded data removed]",
            "text/plain": [
              "<Figure size 1080x720 with 1 Axes>"
            ]
          },
          "metadata": {
            "tags": []
          }
        }
      ]
    },
    {
      "cell_type": "code",
      "metadata": {
        "id": "pkr797HEmTf2",
        "colab_type": "code",
        "outputId": "1cc9cafc-217b-44c3-cd55-782bcc0d2cbf",
        "colab": {
          "base_uri": "https://localhost:8080/",
          "height": 366
        }
      },
      "source": [
        "dados_minimo_noites.info()"
      ],
      "execution_count": 0,
      "outputs": [
        {
          "output_type": "stream",
          "text": [
            "<class 'pandas.core.frame.DataFrame'>\n",
            "Int64Index: 41707 entries, 1 to 48893\n",
            "Data columns (total 14 columns):\n",
            "id                                41707 non-null int64\n",
            "host_id                           41707 non-null int64\n",
            "neighbourhood_group               41707 non-null object\n",
            "neighbourhood                     41707 non-null object\n",
            "latitude                          41707 non-null float64\n",
            "longitude                         41707 non-null float64\n",
            "room_type                         41707 non-null object\n",
            "price                             41707 non-null int64\n",
            "minimum_nights                    41707 non-null int64\n",
            "number_of_reviews                 41707 non-null int64\n",
            "last_review                       41707 non-null object\n",
            "reviews_per_month                 41707 non-null float64\n",
            "calculated_host_listings_count    41707 non-null int64\n",
            "availability_365                  41707 non-null int64\n",
            "dtypes: float64(3), int64(7), object(4)\n",
            "memory usage: 4.8+ MB\n"
          ],
          "name": "stdout"
        }
      ]
    },
    {
      "cell_type": "markdown",
      "metadata": {
        "id": "d7KuvujAmnD9",
        "colab_type": "text"
      },
      "source": [
        "Agora com a base limpa, podemos verificar os dados de quantidade minima de noites sem os outliers. E conforme o esperado, tempos um tempo minimo desejado maior para a moradia completa."
      ]
    },
    {
      "cell_type": "markdown",
      "metadata": {
        "id": "7uRU6pBGRfUJ",
        "colab_type": "text"
      },
      "source": [
        "### Variável Preço"
      ]
    },
    {
      "cell_type": "markdown",
      "metadata": {
        "id": "JzAZZ_XBn6EZ",
        "colab_type": "text"
      },
      "source": [
        "Vamos realizar a mesma analise para o campo preço, e faremos a mesma tecnica para limpar os outliers caso existam. Assim podemos ter uma visão menos distorcida dos valores. "
      ]
    },
    {
      "cell_type": "code",
      "metadata": {
        "id": "DwehD3q1oGdI",
        "colab_type": "code",
        "outputId": "7d2fbd2b-a072-44d4-d54a-56e6310a8f22",
        "colab": {
          "base_uri": "https://localhost:8080/",
          "height": 182
        }
      },
      "source": [
        "airbnb_limpo.price.describe()"
      ],
      "execution_count": 0,
      "outputs": [
        {
          "output_type": "execute_result",
          "data": {
            "text/plain": [
              "count    48895.000000\n",
              "mean       152.720687\n",
              "std        240.154170\n",
              "min          0.000000\n",
              "25%         69.000000\n",
              "50%        106.000000\n",
              "75%        175.000000\n",
              "max      10000.000000\n",
              "Name: price, dtype: float64"
            ]
          },
          "metadata": {
            "tags": []
          },
          "execution_count": 101
        }
      ]
    },
    {
      "cell_type": "markdown",
      "metadata": {
        "id": "zw7FBzK5ofBT",
        "colab_type": "text"
      },
      "source": [
        "Podemos notar a existência de outliers, não é de se esperar um quarto com o preço zero, ou ainda 10.000 a noite. "
      ]
    },
    {
      "cell_type": "markdown",
      "metadata": {
        "id": "4vo33OTxoHLZ",
        "colab_type": "text"
      },
      "source": [
        "Para o caso do preço, é natural que se imagine que os preços médios possam variar por distrito. Portanto, afim de uma analise mais apurada vamos considerar o par price x neighbourhood_group."
      ]
    },
    {
      "cell_type": "code",
      "metadata": {
        "id": "59TkeiGEoUen",
        "colab_type": "code",
        "outputId": "b6939932-416f-4f49-c5d9-de321a7cf118",
        "colab": {
          "base_uri": "https://localhost:8080/",
          "height": 678
        }
      },
      "source": [
        "airbnb_limpo.boxplot(['price'], by = ['neighbourhood_group'])"
      ],
      "execution_count": 0,
      "outputs": [
        {
          "output_type": "execute_result",
          "data": {
            "text/plain": [
              "<matplotlib.axes._subplots.AxesSubplot at 0x7f1bdde68550>"
            ]
          },
          "metadata": {
            "tags": []
          },
          "execution_count": 102
        },
        {
          "output_type": "display_data",
          "data": {
            "image/png": "[encoded data removed]",
            "text/plain": [
              "<Figure size 1080x720 with 1 Axes>"
            ]
          },
          "metadata": {
            "tags": []
          }
        }
      ]
    },
    {
      "cell_type": "markdown",
      "metadata": {
        "id": "sxPiGwqKoto2",
        "colab_type": "text"
      },
      "source": [
        "Manhatam tem o preço mais disperso, o que é de se esperar dado o perfil do local."
      ]
    },
    {
      "cell_type": "code",
      "metadata": {
        "id": "rqP0KsHdoov2",
        "colab_type": "code",
        "colab": {}
      },
      "source": [
        "grupo_bairro = airbnb_limpo.groupby('neighbourhood_group')['price']\n",
        "Q1 = grupo_bairro.quantile(.25).round(2)\n",
        "Q3 = grupo_bairro.quantile(.75).round(2)\n",
        "IIQ = (Q3 - Q1).round(2)\n",
        "LI = (Q1 - 1.5*IIQ).round(2)\n",
        "LS = (Q3 + 1.5*IIQ).round(2)\n",
        "bairro_novo_price = pd.DataFrame()\n",
        "for tipo in grupo_bairro.groups.keys():\n",
        "    eh_tipo = airbnb['neighbourhood_group'] == tipo\n",
        "    eh_dentro_limite = (airbnb_limpo['price'] >= LI[tipo]) & (airbnb_limpo['price'] <= LS[tipo])\n",
        "    selecao = eh_tipo & eh_dentro_limite\n",
        "    dados_selecao = airbnb_limpo[selecao]\n",
        "    bairro_novo_price = pd.concat([bairro_novo_price, dados_selecao])"
      ],
      "execution_count": 0,
      "outputs": []
    },
    {
      "cell_type": "code",
      "metadata": {
        "id": "_LhsfTBsoyZU",
        "colab_type": "code",
        "outputId": "2673f446-088f-45d6-f7e7-cc2cef072194",
        "colab": {
          "base_uri": "https://localhost:8080/",
          "height": 678
        }
      },
      "source": [
        "bairro_novo_price.boxplot(['price'], by = ['neighbourhood_group'])"
      ],
      "execution_count": 0,
      "outputs": [
        {
          "output_type": "execute_result",
          "data": {
            "text/plain": [
              "<matplotlib.axes._subplots.AxesSubplot at 0x7f1bddec6908>"
            ]
          },
          "metadata": {
            "tags": []
          },
          "execution_count": 104
        },
        {
          "output_type": "display_data",
          "data": {
            "image/png": "[encoded data removed]",
            "text/plain": [
              "<Figure size 1080x720 with 1 Axes>"
            ]
          },
          "metadata": {
            "tags": []
          }
        }
      ]
    },
    {
      "cell_type": "markdown",
      "metadata": {
        "id": "4NO3EKy9RPTQ",
        "colab_type": "text"
      },
      "source": [
        "### Latitude/Longitude - Coordenadas"
      ]
    },
    {
      "cell_type": "markdown",
      "metadata": {
        "id": "QXfw-Ohrqbmk",
        "colab_type": "text"
      },
      "source": [
        "Por último vamos analisar as variáveis de latitude e longitude. Para isso, vamos usar a figura do mapa de NYC para auxiliar a plotagem dos pontos."
      ]
    },
    {
      "cell_type": "code",
      "metadata": {
        "id": "MxaTsn6TrD2V",
        "colab_type": "code",
        "outputId": "e83a4c93-1a12-4295-841d-d27d4eb70685",
        "colab": {
          "base_uri": "https://localhost:8080/",
          "height": 300
        }
      },
      "source": [
        "airbnb_limpo[['latitude', 'longitude']].describe()"
      ],
      "execution_count": 0,
      "outputs": [
        {
          "output_type": "execute_result",
          "data": {
            "text/html": [
              "<div>\n",
              "<style scoped>\n",
              "    .dataframe tbody tr th:only-of-type {\n",
              "        vertical-align: middle;\n",
              "    }\n",
              "\n",
              "    .dataframe tbody tr th {\n",
              "        vertical-align: top;\n",
              "    }\n",
              "\n",
              "    .dataframe thead th {\n",
              "        text-align: right;\n",
              "    }\n",
              "</style>\n",
              "<table border=\"1\" class=\"dataframe\">\n",
              "  <thead>\n",
              "    <tr style=\"text-align: right;\">\n",
              "      <th></th>\n",
              "      <th>latitude</th>\n",
              "      <th>longitude</th>\n",
              "    </tr>\n",
              "  </thead>\n",
              "  <tbody>\n",
              "    <tr>\n",
              "      <th>count</th>\n",
              "      <td>48895.000000</td>\n",
              "      <td>48895.000000</td>\n",
              "    </tr>\n",
              "    <tr>\n",
              "      <th>mean</th>\n",
              "      <td>40.728949</td>\n",
              "      <td>-73.952170</td>\n",
              "    </tr>\n",
              "    <tr>\n",
              "      <th>std</th>\n",
              "      <td>0.054530</td>\n",
              "      <td>0.046157</td>\n",
              "    </tr>\n",
              "    <tr>\n",
              "      <th>min</th>\n",
              "      <td>40.499790</td>\n",
              "      <td>-74.244420</td>\n",
              "    </tr>\n",
              "    <tr>\n",
              "      <th>25%</th>\n",
              "      <td>40.690100</td>\n",
              "      <td>-73.983070</td>\n",
              "    </tr>\n",
              "    <tr>\n",
              "      <th>50%</th>\n",
              "      <td>40.723070</td>\n",
              "      <td>-73.955680</td>\n",
              "    </tr>\n",
              "    <tr>\n",
              "      <th>75%</th>\n",
              "      <td>40.763115</td>\n",
              "      <td>-73.936275</td>\n",
              "    </tr>\n",
              "    <tr>\n",
              "      <th>max</th>\n",
              "      <td>40.913060</td>\n",
              "      <td>-73.712990</td>\n",
              "    </tr>\n",
              "  </tbody>\n",
              "</table>\n",
              "</div>"
            ],
            "text/plain": [
              "           latitude     longitude\n",
              "count  48895.000000  48895.000000\n",
              "mean      40.728949    -73.952170\n",
              "std        0.054530      0.046157\n",
              "min       40.499790    -74.244420\n",
              "25%       40.690100    -73.983070\n",
              "50%       40.723070    -73.955680\n",
              "75%       40.763115    -73.936275\n",
              "max       40.913060    -73.712990"
            ]
          },
          "metadata": {
            "tags": []
          },
          "execution_count": 105
        }
      ]
    },
    {
      "cell_type": "code",
      "metadata": {
        "id": "LLL6iv213ziS",
        "colab_type": "code",
        "outputId": "1854dfba-f79c-4a19-d38e-bb41ea74cb9a",
        "colab": {
          "base_uri": "https://localhost:8080/",
          "height": 609
        }
      },
      "source": [
        "plt.figure(figsize=(10,10))\n",
        "sns.scatterplot(airbnb_limpo.longitude,airbnb_limpo.latitude,hue=airbnb_limpo.neighbourhood_group)\n",
        "plt.ioff()"
      ],
      "execution_count": 0,
      "outputs": [
        {
          "output_type": "display_data",
          "data": {
            "image/png": "[encoded data removed]",
            "text/plain": [
              "<Figure size 720x720 with 1 Axes>"
            ]
          },
          "metadata": {
            "tags": []
          }
        }
      ]
    },
    {
      "cell_type": "code",
      "metadata": {
        "id": "j0EaV0aZpGAp",
        "colab_type": "code",
        "outputId": "a155b079-e26b-4ac5-831d-66e791963a68",
        "colab": {
          "base_uri": "https://localhost:8080/",
          "height": 584
        }
      },
      "source": [
        "# Código utilizando informação do Kagle (desafio - )\n",
        "\n",
        "import urllib\n",
        "plt.figure(figsize=(10,10))\n",
        "i=urllib.request.urlopen('https://upload.wikimedia.org/wikipedia/commons/e/ec/Neighbourhoods_New_York_City_Map.PNG')\n",
        "nyc_img=plt.imread(i)\n",
        "#determinar a escala da figura de acordo com os limites de latitude e longitude\n",
        "plt.imshow(nyc_img,zorder=0,extent=[-74.258, -73.7, 40.49,40.92])\n",
        "ax=plt.gca()\n",
        "\n",
        "airbnb_limpo.plot(kind='scatter', x='longitude', y='latitude', label='availability_365', c='price', ax=ax, \n",
        "           cmap=plt.get_cmap('jet'), colorbar=True, alpha=0.4, zorder=5)\n",
        "plt.legend()\n",
        "plt.show()"
      ],
      "execution_count": 0,
      "outputs": [
        {
          "output_type": "display_data",
          "data": {
            "image/png": "[encoded data removed]",
            "text/plain": [
              "<Figure size 720x720 with 2 Axes>"
            ]
          },
          "metadata": {
            "tags": []
          }
        }
      ]
    },
    {
      "cell_type": "markdown",
      "metadata": {
        "id": "yA1f4iBdtss_",
        "colab_type": "text"
      },
      "source": [
        "Pela plotagem das imagens, notamos que não existe dados estranhos nessa variável, ou seja, todas as latitudes e longitudes apontam para pontos reais dentro da cidade de NYC."
      ]
    },
    {
      "cell_type": "code",
      "metadata": {
        "id": "THRDreiqqlWC",
        "colab_type": "code",
        "colab": {}
      },
      "source": [
        ""
      ],
      "execution_count": 0,
      "outputs": []
    },
    {
      "cell_type": "markdown",
      "metadata": {
        "id": "gQb_KglNXShW",
        "colab_type": "text"
      },
      "source": [
        "# Analises por demografia Distritos"
      ]
    },
    {
      "cell_type": "markdown",
      "metadata": {
        "id": "g4aj4mCtSOuS",
        "colab_type": "text"
      },
      "source": [
        "### Questão 3"
      ]
    },
    {
      "cell_type": "markdown",
      "metadata": {
        "id": "C3-mLKfu4x75",
        "colab_type": "text"
      },
      "source": [
        "Para fazer as análises dos dados referentes as regiões e demografia dos distritos de NYC vamos utilizar uma tabela de dados complementar ('https://en.wikipedia.org/wiki/Boroughs_of_New_York_City')"
      ]
    },
    {
      "cell_type": "code",
      "metadata": {
        "id": "gWVsGZBW5Uzg",
        "colab_type": "code",
        "colab": {}
      },
      "source": [
        " extra = {\n",
        "    'neighbourhood_group' : ['Bronx','Brooklyn','Manhattan','Queens','Staten Island'],\n",
        "    'population' : [1471160, 2648771, 1664727, 2358582, 479458],\n",
        "    'gdp' : [28787, 63303, 629682, 73842, 11249],\n",
        "    'land_area' : [42.10, 70.82, 22.83, 108.53, 58.37],\n",
        "    'density' : [34653, 37137, 72033, 21460, 8112]\n",
        "}\n",
        "demografia = pd.DataFrame(data=extra)"
      ],
      "execution_count": 0,
      "outputs": []
    },
    {
      "cell_type": "code",
      "metadata": {
        "id": "CDfA0HNx5Zqd",
        "colab_type": "code",
        "outputId": "757b0bd2-61ae-490a-e929-b21f72dc6d7e",
        "colab": {
          "base_uri": "https://localhost:8080/",
          "height": 206
        }
      },
      "source": [
        "demografia"
      ],
      "execution_count": 0,
      "outputs": [
        {
          "output_type": "execute_result",
          "data": {
            "text/html": [
              "<div>\n",
              "<style scoped>\n",
              "    .dataframe tbody tr th:only-of-type {\n",
              "        vertical-align: middle;\n",
              "    }\n",
              "\n",
              "    .dataframe tbody tr th {\n",
              "        vertical-align: top;\n",
              "    }\n",
              "\n",
              "    .dataframe thead th {\n",
              "        text-align: right;\n",
              "    }\n",
              "</style>\n",
              "<table border=\"1\" class=\"dataframe\">\n",
              "  <thead>\n",
              "    <tr style=\"text-align: right;\">\n",
              "      <th></th>\n",
              "      <th>neighbourhood_group</th>\n",
              "      <th>population</th>\n",
              "      <th>gdp</th>\n",
              "      <th>land_area</th>\n",
              "      <th>density</th>\n",
              "    </tr>\n",
              "  </thead>\n",
              "  <tbody>\n",
              "    <tr>\n",
              "      <th>0</th>\n",
              "      <td>Bronx</td>\n",
              "      <td>1471160</td>\n",
              "      <td>28787</td>\n",
              "      <td>42.10</td>\n",
              "      <td>34653</td>\n",
              "    </tr>\n",
              "    <tr>\n",
              "      <th>1</th>\n",
              "      <td>Brooklyn</td>\n",
              "      <td>2648771</td>\n",
              "      <td>63303</td>\n",
              "      <td>70.82</td>\n",
              "      <td>37137</td>\n",
              "    </tr>\n",
              "    <tr>\n",
              "      <th>2</th>\n",
              "      <td>Manhattan</td>\n",
              "      <td>1664727</td>\n",
              "      <td>629682</td>\n",
              "      <td>22.83</td>\n",
              "      <td>72033</td>\n",
              "    </tr>\n",
              "    <tr>\n",
              "      <th>3</th>\n",
              "      <td>Queens</td>\n",
              "      <td>2358582</td>\n",
              "      <td>73842</td>\n",
              "      <td>108.53</td>\n",
              "      <td>21460</td>\n",
              "    </tr>\n",
              "    <tr>\n",
              "      <th>4</th>\n",
              "      <td>Staten Island</td>\n",
              "      <td>479458</td>\n",
              "      <td>11249</td>\n",
              "      <td>58.37</td>\n",
              "      <td>8112</td>\n",
              "    </tr>\n",
              "  </tbody>\n",
              "</table>\n",
              "</div>"
            ],
            "text/plain": [
              "  neighbourhood_group  population     gdp  land_area  density\n",
              "0               Bronx     1471160   28787      42.10    34653\n",
              "1            Brooklyn     2648771   63303      70.82    37137\n",
              "2           Manhattan     1664727  629682      22.83    72033\n",
              "3              Queens     2358582   73842     108.53    21460\n",
              "4       Staten Island      479458   11249      58.37     8112"
            ]
          },
          "metadata": {
            "tags": []
          },
          "execution_count": 109
        }
      ]
    },
    {
      "cell_type": "code",
      "metadata": {
        "id": "Szd0SfTqV4t_",
        "colab_type": "code",
        "colab": {}
      },
      "source": [
        "distribuicao_distrito = airbnb_limpo.groupby(['neighbourhood_group']).count()['id'].reset_index()"
      ],
      "execution_count": 0,
      "outputs": []
    },
    {
      "cell_type": "code",
      "metadata": {
        "id": "nqByXlSZT7q4",
        "colab_type": "code",
        "colab": {}
      },
      "source": [
        "distribuicao_cross = distribuicao_distrito.merge(demografia, how='left')"
      ],
      "execution_count": 0,
      "outputs": []
    },
    {
      "cell_type": "code",
      "metadata": {
        "id": "1g_lJr7SUVsG",
        "colab_type": "code",
        "outputId": "acf9b339-a098-46a6-b69b-d3767dfbd6f7",
        "colab": {
          "base_uri": "https://localhost:8080/",
          "height": 206
        }
      },
      "source": [
        "distribuicao_cross"
      ],
      "execution_count": 0,
      "outputs": [
        {
          "output_type": "execute_result",
          "data": {
            "text/html": [
              "<div>\n",
              "<style scoped>\n",
              "    .dataframe tbody tr th:only-of-type {\n",
              "        vertical-align: middle;\n",
              "    }\n",
              "\n",
              "    .dataframe tbody tr th {\n",
              "        vertical-align: top;\n",
              "    }\n",
              "\n",
              "    .dataframe thead th {\n",
              "        text-align: right;\n",
              "    }\n",
              "</style>\n",
              "<table border=\"1\" class=\"dataframe\">\n",
              "  <thead>\n",
              "    <tr style=\"text-align: right;\">\n",
              "      <th></th>\n",
              "      <th>neighbourhood_group</th>\n",
              "      <th>id</th>\n",
              "      <th>population</th>\n",
              "      <th>gdp</th>\n",
              "      <th>land_area</th>\n",
              "      <th>density</th>\n",
              "    </tr>\n",
              "  </thead>\n",
              "  <tbody>\n",
              "    <tr>\n",
              "      <th>0</th>\n",
              "      <td>Bronx</td>\n",
              "      <td>1091</td>\n",
              "      <td>1471160</td>\n",
              "      <td>28787</td>\n",
              "      <td>42.10</td>\n",
              "      <td>34653</td>\n",
              "    </tr>\n",
              "    <tr>\n",
              "      <th>1</th>\n",
              "      <td>Brooklyn</td>\n",
              "      <td>20104</td>\n",
              "      <td>2648771</td>\n",
              "      <td>63303</td>\n",
              "      <td>70.82</td>\n",
              "      <td>37137</td>\n",
              "    </tr>\n",
              "    <tr>\n",
              "      <th>2</th>\n",
              "      <td>Manhattan</td>\n",
              "      <td>21661</td>\n",
              "      <td>1664727</td>\n",
              "      <td>629682</td>\n",
              "      <td>22.83</td>\n",
              "      <td>72033</td>\n",
              "    </tr>\n",
              "    <tr>\n",
              "      <th>3</th>\n",
              "      <td>Queens</td>\n",
              "      <td>5666</td>\n",
              "      <td>2358582</td>\n",
              "      <td>73842</td>\n",
              "      <td>108.53</td>\n",
              "      <td>21460</td>\n",
              "    </tr>\n",
              "    <tr>\n",
              "      <th>4</th>\n",
              "      <td>Staten Island</td>\n",
              "      <td>373</td>\n",
              "      <td>479458</td>\n",
              "      <td>11249</td>\n",
              "      <td>58.37</td>\n",
              "      <td>8112</td>\n",
              "    </tr>\n",
              "  </tbody>\n",
              "</table>\n",
              "</div>"
            ],
            "text/plain": [
              "  neighbourhood_group     id  population     gdp  land_area  density\n",
              "0               Bronx   1091     1471160   28787      42.10    34653\n",
              "1            Brooklyn  20104     2648771   63303      70.82    37137\n",
              "2           Manhattan  21661     1664727  629682      22.83    72033\n",
              "3              Queens   5666     2358582   73842     108.53    21460\n",
              "4       Staten Island    373      479458   11249      58.37     8112"
            ]
          },
          "metadata": {
            "tags": []
          },
          "execution_count": 112
        }
      ]
    },
    {
      "cell_type": "code",
      "metadata": {
        "id": "fzJRFb3SWJXq",
        "colab_type": "code",
        "outputId": "d4867618-b862-40df-cd04-fac1980a14d6",
        "colab": {
          "base_uri": "https://localhost:8080/",
          "height": 627
        }
      },
      "source": [
        "plt.figure(figsize=(10,10))\n",
        "sns.scatterplot(x='density', y='id', data=distribuicao_cross)"
      ],
      "execution_count": 0,
      "outputs": [
        {
          "output_type": "execute_result",
          "data": {
            "text/plain": [
              "<matplotlib.axes._subplots.AxesSubplot at 0x7f1bd753d630>"
            ]
          },
          "metadata": {
            "tags": []
          },
          "execution_count": 113
        },
        {
          "output_type": "display_data",
          "data": {
            "image/png": "[encoded data removed]",
            "text/plain": [
              "<Figure size 720x720 with 1 Axes>"
            ]
          },
          "metadata": {
            "tags": []
          }
        }
      ]
    },
    {
      "cell_type": "markdown",
      "metadata": {
        "id": "hSx5ng_GWrs5",
        "colab_type": "text"
      },
      "source": [
        "A densidade populacional da região indica ter uma relação direta com a oferta de imóveis. Vamos analisar a distribuição desses imóveis"
      ]
    },
    {
      "cell_type": "code",
      "metadata": {
        "id": "CNhAlnyo5a14",
        "colab_type": "code",
        "colab": {}
      },
      "source": [
        "distribuicao_anuncios = airbnb_limpo.groupby(['neighbourhood_group','room_type']).count()['id'].reset_index()"
      ],
      "execution_count": 0,
      "outputs": []
    },
    {
      "cell_type": "code",
      "metadata": {
        "id": "jAaDVW326DNI",
        "colab_type": "code",
        "outputId": "159816e5-4e01-444f-ffaa-841a725cddac",
        "colab": {
          "base_uri": "https://localhost:8080/",
          "height": 628
        }
      },
      "source": [
        "sns.barplot(x='neighbourhood_group', y='id', hue='room_type', data = distribuicao_anuncios)"
      ],
      "execution_count": 0,
      "outputs": [
        {
          "output_type": "execute_result",
          "data": {
            "text/plain": [
              "<matplotlib.axes._subplots.AxesSubplot at 0x7f1bd74978d0>"
            ]
          },
          "metadata": {
            "tags": []
          },
          "execution_count": 115
        },
        {
          "output_type": "display_data",
          "data": {
            "image/png": "[encoded data removed]",
            "text/plain": [
              "<Figure size 1080x720 with 1 Axes>"
            ]
          },
          "metadata": {
            "tags": []
          }
        }
      ]
    },
    {
      "cell_type": "markdown",
      "metadata": {
        "id": "dKrzrBZv6lpM",
        "colab_type": "text"
      },
      "source": [
        "Analisando a oferta pela distribuição dos distritos, podemos notar que os dois distritos com a maior densidade populacional também são os distritos com a maior quantidade de oferta de moradias."
      ]
    },
    {
      "cell_type": "markdown",
      "metadata": {
        "id": "7U_phA-xPRuw",
        "colab_type": "text"
      },
      "source": [
        "Vamos analisar a proporção da distribiução de tipos de moradia pelo total de oferta do bairro."
      ]
    },
    {
      "cell_type": "code",
      "metadata": {
        "id": "wMVX27uB6S-0",
        "colab_type": "code",
        "colab": {}
      },
      "source": [
        "distribuicao_anuncios['prop']=distribuicao_anuncios.groupby('neighbourhood_group')['id'].apply(lambda x: x/np.sum(x))"
      ],
      "execution_count": 0,
      "outputs": []
    },
    {
      "cell_type": "code",
      "metadata": {
        "id": "wiRqG7u5Oz05",
        "colab_type": "code",
        "outputId": "6f7a8051-a72f-4549-8517-e3008a180320",
        "colab": {
          "base_uri": "https://localhost:8080/",
          "height": 628
        }
      },
      "source": [
        "sns.barplot(x='neighbourhood_group', y='prop', hue='room_type', data = distribuicao_anuncios)"
      ],
      "execution_count": 0,
      "outputs": [
        {
          "output_type": "execute_result",
          "data": {
            "text/plain": [
              "<matplotlib.axes._subplots.AxesSubplot at 0x7f1bd7438860>"
            ]
          },
          "metadata": {
            "tags": []
          },
          "execution_count": 117
        },
        {
          "output_type": "display_data",
          "data": {
            "image/png": "[encoded data removed]",
            "text/plain": [
              "<Figure size 1080x720 with 1 Axes>"
            ]
          },
          "metadata": {
            "tags": []
          }
        }
      ]
    },
    {
      "cell_type": "markdown",
      "metadata": {
        "id": "usqtP3rM7fbz",
        "colab_type": "text"
      },
      "source": [
        "Conhecendo o perfil dos distritos, é de se imaginar que a oferta de apartamentos inteiros seja maior em Manhatan. Distrito mais central, com moradias menores inviabilizam a divisão da moradia para locação. A oferta de quartos dividios não é muito expressiva em nenhuma região."
      ]
    },
    {
      "cell_type": "markdown",
      "metadata": {
        "id": "y5er5TpHXKBV",
        "colab_type": "text"
      },
      "source": [
        "# Analise dos Bairros"
      ]
    },
    {
      "cell_type": "markdown",
      "metadata": {
        "id": "1l4tXV7iChYp",
        "colab_type": "text"
      },
      "source": [
        "Agora vamos analisar a distribuição dos bairros mais 'requisitados'. Para isso considerei 3 variáveis para analisar, disponibilidade, total de avaliações e avaliações por mês. Usei um group sort apenas para verificar os 5 mais e os 5 menos requisitados. "
      ]
    },
    {
      "cell_type": "markdown",
      "metadata": {
        "id": "jNzBJWLZW_dY",
        "colab_type": "text"
      },
      "source": [
        "### Questão 4"
      ]
    },
    {
      "cell_type": "code",
      "metadata": {
        "id": "b5UGZC718MJd",
        "colab_type": "code",
        "outputId": "1a321715-c30c-4602-dd0e-ee4795e7ade1",
        "colab": {
          "base_uri": "https://localhost:8080/",
          "height": 206
        }
      },
      "source": [
        "disponibilidade_regiao = airbnb_limpo.groupby(['neighbourhood']).sum()['availability_365'].reset_index()\n",
        "disponibilidade_regiao.sort_values(by=['availability_365'], ascending = False).head(5)"
      ],
      "execution_count": 0,
      "outputs": [
        {
          "output_type": "execute_result",
          "data": {
            "text/html": [
              "<div>\n",
              "<style scoped>\n",
              "    .dataframe tbody tr th:only-of-type {\n",
              "        vertical-align: middle;\n",
              "    }\n",
              "\n",
              "    .dataframe tbody tr th {\n",
              "        vertical-align: top;\n",
              "    }\n",
              "\n",
              "    .dataframe thead th {\n",
              "        text-align: right;\n",
              "    }\n",
              "</style>\n",
              "<table border=\"1\" class=\"dataframe\">\n",
              "  <thead>\n",
              "    <tr style=\"text-align: right;\">\n",
              "      <th></th>\n",
              "      <th>neighbourhood</th>\n",
              "      <th>availability_365</th>\n",
              "    </tr>\n",
              "  </thead>\n",
              "  <tbody>\n",
              "    <tr>\n",
              "      <th>13</th>\n",
              "      <td>Bedford-Stuyvesant</td>\n",
              "      <td>433181</td>\n",
              "    </tr>\n",
              "    <tr>\n",
              "      <th>214</th>\n",
              "      <td>Williamsburg</td>\n",
              "      <td>292913</td>\n",
              "    </tr>\n",
              "    <tr>\n",
              "      <th>94</th>\n",
              "      <td>Harlem</td>\n",
              "      <td>283283</td>\n",
              "    </tr>\n",
              "    <tr>\n",
              "      <th>95</th>\n",
              "      <td>Hell's Kitchen</td>\n",
              "      <td>271862</td>\n",
              "    </tr>\n",
              "    <tr>\n",
              "      <th>127</th>\n",
              "      <td>Midtown</td>\n",
              "      <td>243652</td>\n",
              "    </tr>\n",
              "  </tbody>\n",
              "</table>\n",
              "</div>"
            ],
            "text/plain": [
              "          neighbourhood  availability_365\n",
              "13   Bedford-Stuyvesant            433181\n",
              "214        Williamsburg            292913\n",
              "94               Harlem            283283\n",
              "95       Hell's Kitchen            271862\n",
              "127             Midtown            243652"
            ]
          },
          "metadata": {
            "tags": []
          },
          "execution_count": 118
        }
      ]
    },
    {
      "cell_type": "code",
      "metadata": {
        "id": "5PHep6dx8WPR",
        "colab_type": "code",
        "outputId": "0e5aa454-9ccb-4bd6-cbc4-6cb962fd5daf",
        "colab": {
          "base_uri": "https://localhost:8080/",
          "height": 206
        }
      },
      "source": [
        "avaliacoes_por_mes = airbnb_limpo.groupby(['neighbourhood']).sum()['reviews_per_month'].reset_index()\n",
        "avaliacoes_por_mes.sort_values(by=['reviews_per_month'], ascending = False).head(5)"
      ],
      "execution_count": 0,
      "outputs": [
        {
          "output_type": "execute_result",
          "data": {
            "text/html": [
              "<div>\n",
              "<style scoped>\n",
              "    .dataframe tbody tr th:only-of-type {\n",
              "        vertical-align: middle;\n",
              "    }\n",
              "\n",
              "    .dataframe tbody tr th {\n",
              "        vertical-align: top;\n",
              "    }\n",
              "\n",
              "    .dataframe thead th {\n",
              "        text-align: right;\n",
              "    }\n",
              "</style>\n",
              "<table border=\"1\" class=\"dataframe\">\n",
              "  <thead>\n",
              "    <tr style=\"text-align: right;\">\n",
              "      <th></th>\n",
              "      <th>neighbourhood</th>\n",
              "      <th>reviews_per_month</th>\n",
              "    </tr>\n",
              "  </thead>\n",
              "  <tbody>\n",
              "    <tr>\n",
              "      <th>13</th>\n",
              "      <td>Bedford-Stuyvesant</td>\n",
              "      <td>4874.52</td>\n",
              "    </tr>\n",
              "    <tr>\n",
              "      <th>214</th>\n",
              "      <td>Williamsburg</td>\n",
              "      <td>3475.77</td>\n",
              "    </tr>\n",
              "    <tr>\n",
              "      <th>94</th>\n",
              "      <td>Harlem</td>\n",
              "      <td>2956.23</td>\n",
              "    </tr>\n",
              "    <tr>\n",
              "      <th>95</th>\n",
              "      <td>Hell's Kitchen</td>\n",
              "      <td>2818.79</td>\n",
              "    </tr>\n",
              "    <tr>\n",
              "      <th>28</th>\n",
              "      <td>Bushwick</td>\n",
              "      <td>2632.51</td>\n",
              "    </tr>\n",
              "  </tbody>\n",
              "</table>\n",
              "</div>"
            ],
            "text/plain": [
              "          neighbourhood  reviews_per_month\n",
              "13   Bedford-Stuyvesant            4874.52\n",
              "214        Williamsburg            3475.77\n",
              "94               Harlem            2956.23\n",
              "95       Hell's Kitchen            2818.79\n",
              "28             Bushwick            2632.51"
            ]
          },
          "metadata": {
            "tags": []
          },
          "execution_count": 119
        }
      ]
    },
    {
      "cell_type": "code",
      "metadata": {
        "id": "bl3PvOAUAfVF",
        "colab_type": "code",
        "outputId": "068f1ef5-02ee-4472-a0a6-3de43994d9b2",
        "colab": {
          "base_uri": "https://localhost:8080/",
          "height": 206
        }
      },
      "source": [
        "avaliacoes_por_mes = airbnb_limpo.groupby(['neighbourhood']).sum()['number_of_reviews'].reset_index()\n",
        "avaliacoes_por_mes.sort_values(by=['number_of_reviews'], ascending = False).head(5)"
      ],
      "execution_count": 0,
      "outputs": [
        {
          "output_type": "execute_result",
          "data": {
            "text/html": [
              "<div>\n",
              "<style scoped>\n",
              "    .dataframe tbody tr th:only-of-type {\n",
              "        vertical-align: middle;\n",
              "    }\n",
              "\n",
              "    .dataframe tbody tr th {\n",
              "        vertical-align: top;\n",
              "    }\n",
              "\n",
              "    .dataframe thead th {\n",
              "        text-align: right;\n",
              "    }\n",
              "</style>\n",
              "<table border=\"1\" class=\"dataframe\">\n",
              "  <thead>\n",
              "    <tr style=\"text-align: right;\">\n",
              "      <th></th>\n",
              "      <th>neighbourhood</th>\n",
              "      <th>number_of_reviews</th>\n",
              "    </tr>\n",
              "  </thead>\n",
              "  <tbody>\n",
              "    <tr>\n",
              "      <th>13</th>\n",
              "      <td>Bedford-Stuyvesant</td>\n",
              "      <td>110352</td>\n",
              "    </tr>\n",
              "    <tr>\n",
              "      <th>214</th>\n",
              "      <td>Williamsburg</td>\n",
              "      <td>85427</td>\n",
              "    </tr>\n",
              "    <tr>\n",
              "      <th>94</th>\n",
              "      <td>Harlem</td>\n",
              "      <td>75962</td>\n",
              "    </tr>\n",
              "    <tr>\n",
              "      <th>28</th>\n",
              "      <td>Bushwick</td>\n",
              "      <td>52514</td>\n",
              "    </tr>\n",
              "    <tr>\n",
              "      <th>95</th>\n",
              "      <td>Hell's Kitchen</td>\n",
              "      <td>50227</td>\n",
              "    </tr>\n",
              "  </tbody>\n",
              "</table>\n",
              "</div>"
            ],
            "text/plain": [
              "          neighbourhood  number_of_reviews\n",
              "13   Bedford-Stuyvesant             110352\n",
              "214        Williamsburg              85427\n",
              "94               Harlem              75962\n",
              "28             Bushwick              52514\n",
              "95       Hell's Kitchen              50227"
            ]
          },
          "metadata": {
            "tags": []
          },
          "execution_count": 120
        }
      ]
    },
    {
      "cell_type": "code",
      "metadata": {
        "id": "FQiyOvrKHzcj",
        "colab_type": "code",
        "outputId": "8146f42b-02c6-48b4-b279-b8ddc7939516",
        "colab": {
          "base_uri": "https://localhost:8080/",
          "height": 206
        }
      },
      "source": [
        "quantidade_por_host = airbnb_limpo.groupby(['neighbourhood']).sum()['calculated_host_listings_count'].reset_index()\n",
        "quantidade_por_host.sort_values(by=['calculated_host_listings_count'], ascending = False).head(5)"
      ],
      "execution_count": 0,
      "outputs": [
        {
          "output_type": "execute_result",
          "data": {
            "text/html": [
              "<div>\n",
              "<style scoped>\n",
              "    .dataframe tbody tr th:only-of-type {\n",
              "        vertical-align: middle;\n",
              "    }\n",
              "\n",
              "    .dataframe tbody tr th {\n",
              "        vertical-align: top;\n",
              "    }\n",
              "\n",
              "    .dataframe thead th {\n",
              "        text-align: right;\n",
              "    }\n",
              "</style>\n",
              "<table border=\"1\" class=\"dataframe\">\n",
              "  <thead>\n",
              "    <tr style=\"text-align: right;\">\n",
              "      <th></th>\n",
              "      <th>neighbourhood</th>\n",
              "      <th>calculated_host_listings_count</th>\n",
              "    </tr>\n",
              "  </thead>\n",
              "  <tbody>\n",
              "    <tr>\n",
              "      <th>73</th>\n",
              "      <td>Financial District</td>\n",
              "      <td>85454</td>\n",
              "    </tr>\n",
              "    <tr>\n",
              "      <th>137</th>\n",
              "      <td>Murray Hill</td>\n",
              "      <td>26125</td>\n",
              "    </tr>\n",
              "    <tr>\n",
              "      <th>95</th>\n",
              "      <td>Hell's Kitchen</td>\n",
              "      <td>25169</td>\n",
              "    </tr>\n",
              "    <tr>\n",
              "      <th>127</th>\n",
              "      <td>Midtown</td>\n",
              "      <td>25019</td>\n",
              "    </tr>\n",
              "    <tr>\n",
              "      <th>191</th>\n",
              "      <td>Theater District</td>\n",
              "      <td>18704</td>\n",
              "    </tr>\n",
              "  </tbody>\n",
              "</table>\n",
              "</div>"
            ],
            "text/plain": [
              "          neighbourhood  calculated_host_listings_count\n",
              "73   Financial District                           85454\n",
              "137         Murray Hill                           26125\n",
              "95       Hell's Kitchen                           25169\n",
              "127             Midtown                           25019\n",
              "191    Theater District                           18704"
            ]
          },
          "metadata": {
            "tags": []
          },
          "execution_count": 121
        }
      ]
    },
    {
      "cell_type": "code",
      "metadata": {
        "id": "R8OOMPAQA9sO",
        "colab_type": "code",
        "colab": {}
      },
      "source": [
        ""
      ],
      "execution_count": 0,
      "outputs": []
    },
    {
      "cell_type": "markdown",
      "metadata": {
        "id": "JGQKrJjtC1BM",
        "colab_type": "text"
      },
      "source": [
        "Verificando as tres variáveis, podemos notar que os bairros que tem maior quantidade de avaliações assim como maior disponibilidade sao os mesmos:\n",
        "\n",
        "**Bedford-Stuyvesant**, **Williamsburg**, **Harlem**, **Bushwick**, **Hell's Kitchen**"
      ]
    },
    {
      "cell_type": "code",
      "metadata": {
        "id": "x2ZevBpcC-sU",
        "colab_type": "code",
        "outputId": "95f7b7cf-1270-4348-e232-6ee86c9a24a0",
        "colab": {
          "base_uri": "https://localhost:8080/",
          "height": 206
        }
      },
      "source": [
        "avaliacoes_por_mes = airbnb_limpo.groupby(['neighbourhood']).sum()['number_of_reviews'].reset_index()\n",
        "avaliacoes_por_mes.sort_values(by=['number_of_reviews'], ascending = False).tail(5)"
      ],
      "execution_count": 0,
      "outputs": [
        {
          "output_type": "execute_result",
          "data": {
            "text/html": [
              "<div>\n",
              "<style scoped>\n",
              "    .dataframe tbody tr th:only-of-type {\n",
              "        vertical-align: middle;\n",
              "    }\n",
              "\n",
              "    .dataframe tbody tr th {\n",
              "        vertical-align: top;\n",
              "    }\n",
              "\n",
              "    .dataframe thead th {\n",
              "        text-align: right;\n",
              "    }\n",
              "</style>\n",
              "<table border=\"1\" class=\"dataframe\">\n",
              "  <thead>\n",
              "    <tr style=\"text-align: right;\">\n",
              "      <th></th>\n",
              "      <th>neighbourhood</th>\n",
              "      <th>number_of_reviews</th>\n",
              "    </tr>\n",
              "  </thead>\n",
              "  <tbody>\n",
              "    <tr>\n",
              "      <th>21</th>\n",
              "      <td>Breezy Point</td>\n",
              "      <td>5</td>\n",
              "    </tr>\n",
              "    <tr>\n",
              "      <th>9</th>\n",
              "      <td>Bay Terrace, Staten Island</td>\n",
              "      <td>3</td>\n",
              "    </tr>\n",
              "    <tr>\n",
              "      <th>141</th>\n",
              "      <td>New Dorp</td>\n",
              "      <td>0</td>\n",
              "    </tr>\n",
              "    <tr>\n",
              "      <th>219</th>\n",
              "      <td>Woodrow</td>\n",
              "      <td>0</td>\n",
              "    </tr>\n",
              "    <tr>\n",
              "      <th>82</th>\n",
              "      <td>Fort Wadsworth</td>\n",
              "      <td>0</td>\n",
              "    </tr>\n",
              "  </tbody>\n",
              "</table>\n",
              "</div>"
            ],
            "text/plain": [
              "                  neighbourhood  number_of_reviews\n",
              "21                 Breezy Point                  5\n",
              "9    Bay Terrace, Staten Island                  3\n",
              "141                    New Dorp                  0\n",
              "219                     Woodrow                  0\n",
              "82               Fort Wadsworth                  0"
            ]
          },
          "metadata": {
            "tags": []
          },
          "execution_count": 122
        }
      ]
    },
    {
      "cell_type": "code",
      "metadata": {
        "id": "0TKcbaliDdn_",
        "colab_type": "code",
        "outputId": "f0ac5c50-0983-4549-fd71-623bf63cdf4f",
        "colab": {
          "base_uri": "https://localhost:8080/",
          "height": 206
        }
      },
      "source": [
        "avaliacoes_por_mes = airbnb_limpo.groupby(['neighbourhood']).sum()['reviews_per_month'].reset_index()\n",
        "avaliacoes_por_mes.sort_values(by=['reviews_per_month'], ascending = False).tail(5)"
      ],
      "execution_count": 0,
      "outputs": [
        {
          "output_type": "execute_result",
          "data": {
            "text/html": [
              "<div>\n",
              "<style scoped>\n",
              "    .dataframe tbody tr th:only-of-type {\n",
              "        vertical-align: middle;\n",
              "    }\n",
              "\n",
              "    .dataframe tbody tr th {\n",
              "        vertical-align: top;\n",
              "    }\n",
              "\n",
              "    .dataframe thead th {\n",
              "        text-align: right;\n",
              "    }\n",
              "</style>\n",
              "<table border=\"1\" class=\"dataframe\">\n",
              "  <thead>\n",
              "    <tr style=\"text-align: right;\">\n",
              "      <th></th>\n",
              "      <th>neighbourhood</th>\n",
              "      <th>reviews_per_month</th>\n",
              "    </tr>\n",
              "  </thead>\n",
              "  <tbody>\n",
              "    <tr>\n",
              "      <th>42</th>\n",
              "      <td>Co-op City</td>\n",
              "      <td>0.49</td>\n",
              "    </tr>\n",
              "    <tr>\n",
              "      <th>21</th>\n",
              "      <td>Breezy Point</td>\n",
              "      <td>0.44</td>\n",
              "    </tr>\n",
              "    <tr>\n",
              "      <th>141</th>\n",
              "      <td>New Dorp</td>\n",
              "      <td>0.00</td>\n",
              "    </tr>\n",
              "    <tr>\n",
              "      <th>82</th>\n",
              "      <td>Fort Wadsworth</td>\n",
              "      <td>0.00</td>\n",
              "    </tr>\n",
              "    <tr>\n",
              "      <th>219</th>\n",
              "      <td>Woodrow</td>\n",
              "      <td>0.00</td>\n",
              "    </tr>\n",
              "  </tbody>\n",
              "</table>\n",
              "</div>"
            ],
            "text/plain": [
              "      neighbourhood  reviews_per_month\n",
              "42       Co-op City               0.49\n",
              "21     Breezy Point               0.44\n",
              "141        New Dorp               0.00\n",
              "82   Fort Wadsworth               0.00\n",
              "219         Woodrow               0.00"
            ]
          },
          "metadata": {
            "tags": []
          },
          "execution_count": 123
        }
      ]
    },
    {
      "cell_type": "code",
      "metadata": {
        "id": "pyGi-8KoDhqm",
        "colab_type": "code",
        "outputId": "9983fd55-69a5-4f03-8ecd-3a8555fd303b",
        "colab": {
          "base_uri": "https://localhost:8080/",
          "height": 206
        }
      },
      "source": [
        "disponibilidade_regiao = airbnb_limpo.groupby(['neighbourhood']).sum()['availability_365'].reset_index()\n",
        "disponibilidade_regiao.sort_values(by=['availability_365'], ascending = False).tail(5)"
      ],
      "execution_count": 0,
      "outputs": [
        {
          "output_type": "execute_result",
          "data": {
            "text/html": [
              "<div>\n",
              "<style scoped>\n",
              "    .dataframe tbody tr th:only-of-type {\n",
              "        vertical-align: middle;\n",
              "    }\n",
              "\n",
              "    .dataframe tbody tr th {\n",
              "        vertical-align: top;\n",
              "    }\n",
              "\n",
              "    .dataframe thead th {\n",
              "        text-align: right;\n",
              "    }\n",
              "</style>\n",
              "<table border=\"1\" class=\"dataframe\">\n",
              "  <thead>\n",
              "    <tr style=\"text-align: right;\">\n",
              "      <th></th>\n",
              "      <th>neighbourhood</th>\n",
              "      <th>availability_365</th>\n",
              "    </tr>\n",
              "  </thead>\n",
              "  <tbody>\n",
              "    <tr>\n",
              "      <th>211</th>\n",
              "      <td>Westerleigh</td>\n",
              "      <td>225</td>\n",
              "    </tr>\n",
              "    <tr>\n",
              "      <th>172</th>\n",
              "      <td>Rossville</td>\n",
              "      <td>59</td>\n",
              "    </tr>\n",
              "    <tr>\n",
              "      <th>9</th>\n",
              "      <td>Bay Terrace, Staten Island</td>\n",
              "      <td>0</td>\n",
              "    </tr>\n",
              "    <tr>\n",
              "      <th>141</th>\n",
              "      <td>New Dorp</td>\n",
              "      <td>0</td>\n",
              "    </tr>\n",
              "    <tr>\n",
              "      <th>219</th>\n",
              "      <td>Woodrow</td>\n",
              "      <td>0</td>\n",
              "    </tr>\n",
              "  </tbody>\n",
              "</table>\n",
              "</div>"
            ],
            "text/plain": [
              "                  neighbourhood  availability_365\n",
              "211                 Westerleigh               225\n",
              "172                   Rossville                59\n",
              "9    Bay Terrace, Staten Island                 0\n",
              "141                    New Dorp                 0\n",
              "219                     Woodrow                 0"
            ]
          },
          "metadata": {
            "tags": []
          },
          "execution_count": 124
        }
      ]
    },
    {
      "cell_type": "code",
      "metadata": {
        "id": "DkWVYkrdIReo",
        "colab_type": "code",
        "outputId": "8cd4a9ea-d76b-4fe9-d5d5-4972b66e6dc6",
        "colab": {
          "base_uri": "https://localhost:8080/",
          "height": 206
        }
      },
      "source": [
        "quantidade_por_host = airbnb_limpo.groupby(['neighbourhood']).sum()['calculated_host_listings_count'].reset_index()\n",
        "quantidade_por_host.sort_values(by=['calculated_host_listings_count'], ascending = False).tail(5)"
      ],
      "execution_count": 0,
      "outputs": [
        {
          "output_type": "execute_result",
          "data": {
            "text/html": [
              "<div>\n",
              "<style scoped>\n",
              "    .dataframe tbody tr th:only-of-type {\n",
              "        vertical-align: middle;\n",
              "    }\n",
              "\n",
              "    .dataframe tbody tr th {\n",
              "        vertical-align: top;\n",
              "    }\n",
              "\n",
              "    .dataframe thead th {\n",
              "        text-align: right;\n",
              "    }\n",
              "</style>\n",
              "<table border=\"1\" class=\"dataframe\">\n",
              "  <thead>\n",
              "    <tr style=\"text-align: right;\">\n",
              "      <th></th>\n",
              "      <th>neighbourhood</th>\n",
              "      <th>calculated_host_listings_count</th>\n",
              "    </tr>\n",
              "  </thead>\n",
              "  <tbody>\n",
              "    <tr>\n",
              "      <th>208</th>\n",
              "      <td>West Farms</td>\n",
              "      <td>2</td>\n",
              "    </tr>\n",
              "    <tr>\n",
              "      <th>172</th>\n",
              "      <td>Rossville</td>\n",
              "      <td>1</td>\n",
              "    </tr>\n",
              "    <tr>\n",
              "      <th>165</th>\n",
              "      <td>Richmondtown</td>\n",
              "      <td>1</td>\n",
              "    </tr>\n",
              "    <tr>\n",
              "      <th>219</th>\n",
              "      <td>Woodrow</td>\n",
              "      <td>1</td>\n",
              "    </tr>\n",
              "    <tr>\n",
              "      <th>141</th>\n",
              "      <td>New Dorp</td>\n",
              "      <td>1</td>\n",
              "    </tr>\n",
              "  </tbody>\n",
              "</table>\n",
              "</div>"
            ],
            "text/plain": [
              "    neighbourhood  calculated_host_listings_count\n",
              "208    West Farms                               2\n",
              "172     Rossville                               1\n",
              "165  Richmondtown                               1\n",
              "219       Woodrow                               1\n",
              "141      New Dorp                               1"
            ]
          },
          "metadata": {
            "tags": []
          },
          "execution_count": 125
        }
      ]
    },
    {
      "cell_type": "code",
      "metadata": {
        "id": "B6Ta0JDqDq7x",
        "colab_type": "code",
        "colab": {}
      },
      "source": [
        "bairros_menos_procurados = ['Woodrow', 'New Dorp' ,'Bay Terrace, Staten Island', 'Rossville', 'Westerleigh','Co-op City','Breezy Point','Bay Terrace, Staten Island']\n",
        "selecao = airbnb_limpo['neighbourhood'].isin(bairros_menos_procurados)\n",
        "airbnb_menors = airbnb[selecao]"
      ],
      "execution_count": 0,
      "outputs": []
    },
    {
      "cell_type": "code",
      "metadata": {
        "id": "Om9fjCRaE5n5",
        "colab_type": "code",
        "outputId": "f05ea3b4-b08d-4a1f-8b5e-7907e5e454ac",
        "colab": {
          "base_uri": "https://localhost:8080/",
          "height": 582
        }
      },
      "source": [
        "plt.figure(figsize=(10,10))\n",
        "i=urllib.request.urlopen('https://upload.wikimedia.org/wikipedia/commons/e/ec/Neighbourhoods_New_York_City_Map.PNG')\n",
        "nyc_img=plt.imread(i)\n",
        "#determinar a escala da figura de acordo com os limites de latitude e longitude\n",
        "plt.imshow(nyc_img,zorder=0,extent=[-74.258, -73.7, 40.49,40.92])\n",
        "ax=plt.gca()\n",
        "\n",
        "airbnb_menors.plot(kind='scatter', x='longitude', y='latitude', label='availability_365', c='price', ax=ax, \n",
        "           cmap=plt.get_cmap('jet'), colorbar=True, alpha=0.4, zorder=5)\n",
        "plt.legend()\n",
        "plt.show()"
      ],
      "execution_count": 0,
      "outputs": [
        {
          "output_type": "display_data",
          "data": {
            "image/png": "[encoded data removed]",
            "text/plain": [
              "<Figure size 720x720 with 2 Axes>"
            ]
          },
          "metadata": {
            "tags": []
          }
        }
      ]
    },
    {
      "cell_type": "code",
      "metadata": {
        "id": "Ehh8tUt9E-Y5",
        "colab_type": "code",
        "colab": {}
      },
      "source": [
        "bairros_mais_procurados = ['Bedford-Stuyvesant', 'Williamsburg, Harlem', 'Bushwick', \"Hell's Kitchen\"]\n",
        "selecao = airbnb_limpo['neighbourhood'].isin(bairros_mais_procurados)\n",
        "airbnb_majors = airbnb[selecao]"
      ],
      "execution_count": 0,
      "outputs": []
    },
    {
      "cell_type": "code",
      "metadata": {
        "id": "-49moyCXFPtV",
        "colab_type": "code",
        "outputId": "afefd01f-3762-419f-8b92-9c8931c36240",
        "colab": {
          "base_uri": "https://localhost:8080/",
          "height": 584
        }
      },
      "source": [
        "plt.figure(figsize=(10,10))\n",
        "i=urllib.request.urlopen('https://upload.wikimedia.org/wikipedia/commons/e/ec/Neighbourhoods_New_York_City_Map.PNG')\n",
        "nyc_img=plt.imread(i)\n",
        "#determinar a escala da figura de acordo com os limites de latitude e longitude\n",
        "plt.imshow(nyc_img,zorder=0,extent=[-74.258, -73.7, 40.49,40.92])\n",
        "ax=plt.gca()\n",
        "\n",
        "airbnb_majors.plot(kind='scatter', x='longitude', y='latitude', label='availability_365', c='price', ax=ax, \n",
        "           cmap=plt.get_cmap('jet'), colorbar=True, alpha=0.4, zorder=5)\n",
        "plt.legend()\n",
        "plt.show()"
      ],
      "execution_count": 0,
      "outputs": [
        {
          "output_type": "display_data",
          "data": {
            "image/png": "[encoded data removed]",
            "text/plain": [
              "<Figure size 720x720 with 2 Axes>"
            ]
          },
          "metadata": {
            "tags": []
          }
        }
      ]
    },
    {
      "cell_type": "markdown",
      "metadata": {
        "id": "NPflrSRtFlkr",
        "colab_type": "text"
      },
      "source": [
        "Podemos notar que as localizações mais procuradas são localizações com um grande fluxo de turistas (região do brookling revitalizado e manhatan central (midtown)), enquanto regiões periféricas possuem um menor acumulo de oferta."
      ]
    },
    {
      "cell_type": "markdown",
      "metadata": {
        "id": "Bd30aDG4qCaa",
        "colab_type": "text"
      },
      "source": [
        "Considerando que os bairros com maior demanda possuem um maior apelo turístico, poderiamos começar por fazer uma campanha para valorizar as qualidades dos bairros, adicionar pontos turísticos, atrações locais, lugares para se visitar.\n",
        "\n",
        "Em paralelo, poderíamos incentivar os hosts a convidarem mais hosts bonificando cada cadastro e/ou primeira reserva."
      ]
    },
    {
      "cell_type": "markdown",
      "metadata": {
        "id": "0n2hbPT5Ixe-",
        "colab_type": "text"
      },
      "source": [
        "# Hosts com maior faturamento"
      ]
    },
    {
      "cell_type": "markdown",
      "metadata": {
        "id": "3v0349vOXu5B",
        "colab_type": "text"
      },
      "source": [
        "### Questão 5"
      ]
    },
    {
      "cell_type": "markdown",
      "metadata": {
        "id": "NKoD9icII3om",
        "colab_type": "text"
      },
      "source": [
        "Considerando os Hosts, vamos usar o host_id.\n",
        "Para analisar os hosts com o maior faturamento, devemos analisar algumas variáveis além de preço.\n",
        "Vamos supor que todos os imóveis tem a mesma taxa de reviews por reserva, ou seja a cada x reservas temos um numero y de reviews.\n",
        "Se essa taxa for igual para todos os imóveis, podemos considerar que o numero de reviews pode nos dar um estimador de quantas reservas são feitas.\n",
        "Dessa forma podemos calcular o 'ganho' anual com uma aproximação de preço da oferta pela quantidade de reviews por mês, em 12 meses."
      ]
    },
    {
      "cell_type": "code",
      "metadata": {
        "id": "e_GYUZhSI2wk",
        "colab_type": "code",
        "colab": {}
      },
      "source": [
        "airbnb_limpo['anual_income'] = airbnb_limpo['reviews_per_month']*airbnb_limpo['price']*12"
      ],
      "execution_count": 0,
      "outputs": []
    },
    {
      "cell_type": "code",
      "metadata": {
        "id": "bXHUfKjbRS3Q",
        "colab_type": "code",
        "colab": {}
      },
      "source": [
        "airbnb_host = airbnb_limpo.query('number_of_reviews > 0')"
      ],
      "execution_count": 0,
      "outputs": []
    },
    {
      "cell_type": "code",
      "metadata": {
        "id": "ROvOntCRRqWV",
        "colab_type": "code",
        "outputId": "e2613438-b526-4326-d361-d87fc73a5232",
        "colab": {
          "base_uri": "https://localhost:8080/",
          "height": 313
        }
      },
      "source": [
        "airbnb_host.head()"
      ],
      "execution_count": 0,
      "outputs": [
        {
          "output_type": "execute_result",
          "data": {
            "text/html": [
              "<div>\n",
              "<style scoped>\n",
              "    .dataframe tbody tr th:only-of-type {\n",
              "        vertical-align: middle;\n",
              "    }\n",
              "\n",
              "    .dataframe tbody tr th {\n",
              "        vertical-align: top;\n",
              "    }\n",
              "\n",
              "    .dataframe thead th {\n",
              "        text-align: right;\n",
              "    }\n",
              "</style>\n",
              "<table border=\"1\" class=\"dataframe\">\n",
              "  <thead>\n",
              "    <tr style=\"text-align: right;\">\n",
              "      <th></th>\n",
              "      <th>id</th>\n",
              "      <th>host_id</th>\n",
              "      <th>neighbourhood_group</th>\n",
              "      <th>neighbourhood</th>\n",
              "      <th>latitude</th>\n",
              "      <th>longitude</th>\n",
              "      <th>room_type</th>\n",
              "      <th>price</th>\n",
              "      <th>minimum_nights</th>\n",
              "      <th>number_of_reviews</th>\n",
              "      <th>last_review</th>\n",
              "      <th>reviews_per_month</th>\n",
              "      <th>calculated_host_listings_count</th>\n",
              "      <th>availability_365</th>\n",
              "      <th>anual_income</th>\n",
              "    </tr>\n",
              "  </thead>\n",
              "  <tbody>\n",
              "    <tr>\n",
              "      <th>0</th>\n",
              "      <td>2539</td>\n",
              "      <td>2787</td>\n",
              "      <td>Brooklyn</td>\n",
              "      <td>Kensington</td>\n",
              "      <td>40.64749</td>\n",
              "      <td>-73.97237</td>\n",
              "      <td>Private room</td>\n",
              "      <td>149</td>\n",
              "      <td>1</td>\n",
              "      <td>9</td>\n",
              "      <td>2018-10-19</td>\n",
              "      <td>0.21</td>\n",
              "      <td>6</td>\n",
              "      <td>365</td>\n",
              "      <td>375.48</td>\n",
              "    </tr>\n",
              "    <tr>\n",
              "      <th>1</th>\n",
              "      <td>2595</td>\n",
              "      <td>2845</td>\n",
              "      <td>Manhattan</td>\n",
              "      <td>Midtown</td>\n",
              "      <td>40.75362</td>\n",
              "      <td>-73.98377</td>\n",
              "      <td>Entire home/apt</td>\n",
              "      <td>225</td>\n",
              "      <td>1</td>\n",
              "      <td>45</td>\n",
              "      <td>2019-05-21</td>\n",
              "      <td>0.38</td>\n",
              "      <td>2</td>\n",
              "      <td>355</td>\n",
              "      <td>1026.00</td>\n",
              "    </tr>\n",
              "    <tr>\n",
              "      <th>3</th>\n",
              "      <td>3831</td>\n",
              "      <td>4869</td>\n",
              "      <td>Brooklyn</td>\n",
              "      <td>Clinton Hill</td>\n",
              "      <td>40.68514</td>\n",
              "      <td>-73.95976</td>\n",
              "      <td>Entire home/apt</td>\n",
              "      <td>89</td>\n",
              "      <td>1</td>\n",
              "      <td>270</td>\n",
              "      <td>2019-07-05</td>\n",
              "      <td>4.64</td>\n",
              "      <td>1</td>\n",
              "      <td>194</td>\n",
              "      <td>4955.52</td>\n",
              "    </tr>\n",
              "    <tr>\n",
              "      <th>4</th>\n",
              "      <td>5022</td>\n",
              "      <td>7192</td>\n",
              "      <td>Manhattan</td>\n",
              "      <td>East Harlem</td>\n",
              "      <td>40.79851</td>\n",
              "      <td>-73.94399</td>\n",
              "      <td>Entire home/apt</td>\n",
              "      <td>80</td>\n",
              "      <td>10</td>\n",
              "      <td>9</td>\n",
              "      <td>2018-11-19</td>\n",
              "      <td>0.10</td>\n",
              "      <td>1</td>\n",
              "      <td>0</td>\n",
              "      <td>96.00</td>\n",
              "    </tr>\n",
              "    <tr>\n",
              "      <th>5</th>\n",
              "      <td>5099</td>\n",
              "      <td>7322</td>\n",
              "      <td>Manhattan</td>\n",
              "      <td>Murray Hill</td>\n",
              "      <td>40.74767</td>\n",
              "      <td>-73.97500</td>\n",
              "      <td>Entire home/apt</td>\n",
              "      <td>200</td>\n",
              "      <td>3</td>\n",
              "      <td>74</td>\n",
              "      <td>2019-06-22</td>\n",
              "      <td>0.59</td>\n",
              "      <td>1</td>\n",
              "      <td>129</td>\n",
              "      <td>1416.00</td>\n",
              "    </tr>\n",
              "  </tbody>\n",
              "</table>\n",
              "</div>"
            ],
            "text/plain": [
              "     id  host_id  ... availability_365 anual_income\n",
              "0  2539     2787  ...              365       375.48\n",
              "1  2595     2845  ...              355      1026.00\n",
              "3  3831     4869  ...              194      4955.52\n",
              "4  5022     7192  ...                0        96.00\n",
              "5  5099     7322  ...              129      1416.00\n",
              "\n",
              "[5 rows x 15 columns]"
            ]
          },
          "metadata": {
            "tags": []
          },
          "execution_count": 132
        }
      ]
    },
    {
      "cell_type": "code",
      "metadata": {
        "id": "sqetVXBJTR3I",
        "colab_type": "code",
        "outputId": "3733a95a-6440-4935-8a44-ebb7751f7af9",
        "colab": {
          "base_uri": "https://localhost:8080/",
          "height": 320
        }
      },
      "source": [
        "airbnb_host.describe()"
      ],
      "execution_count": 0,
      "outputs": [
        {
          "output_type": "execute_result",
          "data": {
            "text/html": [
              "<div>\n",
              "<style scoped>\n",
              "    .dataframe tbody tr th:only-of-type {\n",
              "        vertical-align: middle;\n",
              "    }\n",
              "\n",
              "    .dataframe tbody tr th {\n",
              "        vertical-align: top;\n",
              "    }\n",
              "\n",
              "    .dataframe thead th {\n",
              "        text-align: right;\n",
              "    }\n",
              "</style>\n",
              "<table border=\"1\" class=\"dataframe\">\n",
              "  <thead>\n",
              "    <tr style=\"text-align: right;\">\n",
              "      <th></th>\n",
              "      <th>id</th>\n",
              "      <th>host_id</th>\n",
              "      <th>latitude</th>\n",
              "      <th>longitude</th>\n",
              "      <th>price</th>\n",
              "      <th>minimum_nights</th>\n",
              "      <th>number_of_reviews</th>\n",
              "      <th>reviews_per_month</th>\n",
              "      <th>calculated_host_listings_count</th>\n",
              "      <th>availability_365</th>\n",
              "      <th>anual_income</th>\n",
              "    </tr>\n",
              "  </thead>\n",
              "  <tbody>\n",
              "    <tr>\n",
              "      <th>count</th>\n",
              "      <td>3.884300e+04</td>\n",
              "      <td>3.884300e+04</td>\n",
              "      <td>38843.000000</td>\n",
              "      <td>38843.000000</td>\n",
              "      <td>38843.000000</td>\n",
              "      <td>38843.000000</td>\n",
              "      <td>38843.000000</td>\n",
              "      <td>38843.000000</td>\n",
              "      <td>38843.000000</td>\n",
              "      <td>38843.000000</td>\n",
              "      <td>38843.000000</td>\n",
              "    </tr>\n",
              "    <tr>\n",
              "      <th>mean</th>\n",
              "      <td>1.809646e+07</td>\n",
              "      <td>6.423915e+07</td>\n",
              "      <td>40.728134</td>\n",
              "      <td>-73.951148</td>\n",
              "      <td>142.317947</td>\n",
              "      <td>5.868059</td>\n",
              "      <td>29.297557</td>\n",
              "      <td>1.373221</td>\n",
              "      <td>5.164457</td>\n",
              "      <td>114.882888</td>\n",
              "      <td>2223.651691</td>\n",
              "    </tr>\n",
              "    <tr>\n",
              "      <th>std</th>\n",
              "      <td>1.069370e+07</td>\n",
              "      <td>7.588847e+07</td>\n",
              "      <td>0.054990</td>\n",
              "      <td>0.046695</td>\n",
              "      <td>196.945624</td>\n",
              "      <td>17.384784</td>\n",
              "      <td>48.186374</td>\n",
              "      <td>1.680442</td>\n",
              "      <td>26.295665</td>\n",
              "      <td>129.543636</td>\n",
              "      <td>4657.673094</td>\n",
              "    </tr>\n",
              "    <tr>\n",
              "      <th>min</th>\n",
              "      <td>2.539000e+03</td>\n",
              "      <td>2.438000e+03</td>\n",
              "      <td>40.506410</td>\n",
              "      <td>-74.244420</td>\n",
              "      <td>0.000000</td>\n",
              "      <td>1.000000</td>\n",
              "      <td>1.000000</td>\n",
              "      <td>0.010000</td>\n",
              "      <td>1.000000</td>\n",
              "      <td>0.000000</td>\n",
              "      <td>0.000000</td>\n",
              "    </tr>\n",
              "    <tr>\n",
              "      <th>25%</th>\n",
              "      <td>8.720027e+06</td>\n",
              "      <td>7.033824e+06</td>\n",
              "      <td>40.688640</td>\n",
              "      <td>-73.982470</td>\n",
              "      <td>69.000000</td>\n",
              "      <td>1.000000</td>\n",
              "      <td>3.000000</td>\n",
              "      <td>0.190000</td>\n",
              "      <td>1.000000</td>\n",
              "      <td>0.000000</td>\n",
              "      <td>240.120000</td>\n",
              "    </tr>\n",
              "    <tr>\n",
              "      <th>50%</th>\n",
              "      <td>1.887146e+07</td>\n",
              "      <td>2.837193e+07</td>\n",
              "      <td>40.721710</td>\n",
              "      <td>-73.954800</td>\n",
              "      <td>101.000000</td>\n",
              "      <td>2.000000</td>\n",
              "      <td>9.000000</td>\n",
              "      <td>0.720000</td>\n",
              "      <td>1.000000</td>\n",
              "      <td>55.000000</td>\n",
              "      <td>899.640000</td>\n",
              "    </tr>\n",
              "    <tr>\n",
              "      <th>75%</th>\n",
              "      <td>2.755482e+07</td>\n",
              "      <td>1.018465e+08</td>\n",
              "      <td>40.762990</td>\n",
              "      <td>-73.935020</td>\n",
              "      <td>170.000000</td>\n",
              "      <td>4.000000</td>\n",
              "      <td>33.000000</td>\n",
              "      <td>2.020000</td>\n",
              "      <td>2.000000</td>\n",
              "      <td>229.000000</td>\n",
              "      <td>2718.000000</td>\n",
              "    </tr>\n",
              "    <tr>\n",
              "      <th>max</th>\n",
              "      <td>3.645581e+07</td>\n",
              "      <td>2.738417e+08</td>\n",
              "      <td>40.913060</td>\n",
              "      <td>-73.712990</td>\n",
              "      <td>10000.000000</td>\n",
              "      <td>1250.000000</td>\n",
              "      <td>629.000000</td>\n",
              "      <td>58.500000</td>\n",
              "      <td>327.000000</td>\n",
              "      <td>365.000000</td>\n",
              "      <td>553500.000000</td>\n",
              "    </tr>\n",
              "  </tbody>\n",
              "</table>\n",
              "</div>"
            ],
            "text/plain": [
              "                 id       host_id  ...  availability_365   anual_income\n",
              "count  3.884300e+04  3.884300e+04  ...      38843.000000   38843.000000\n",
              "mean   1.809646e+07  6.423915e+07  ...        114.882888    2223.651691\n",
              "std    1.069370e+07  7.588847e+07  ...        129.543636    4657.673094\n",
              "min    2.539000e+03  2.438000e+03  ...          0.000000       0.000000\n",
              "25%    8.720027e+06  7.033824e+06  ...          0.000000     240.120000\n",
              "50%    1.887146e+07  2.837193e+07  ...         55.000000     899.640000\n",
              "75%    2.755482e+07  1.018465e+08  ...        229.000000    2718.000000\n",
              "max    3.645581e+07  2.738417e+08  ...        365.000000  553500.000000\n",
              "\n",
              "[8 rows x 11 columns]"
            ]
          },
          "metadata": {
            "tags": []
          },
          "execution_count": 133
        }
      ]
    },
    {
      "cell_type": "code",
      "metadata": {
        "id": "KV7yKaDsJrfH",
        "colab_type": "code",
        "colab": {}
      },
      "source": [
        "host_anual_income = airbnb_host.groupby(['host_id']).sum()['anual_income'].reset_index()"
      ],
      "execution_count": 0,
      "outputs": []
    },
    {
      "cell_type": "code",
      "metadata": {
        "id": "vlVyW8eXJ7iH",
        "colab_type": "code",
        "outputId": "6a07dea5-a21b-4880-9c4c-d6c3cb3ed11c",
        "colab": {
          "base_uri": "https://localhost:8080/",
          "height": 363
        }
      },
      "source": [
        "host_anual_income.sort_values(by=['anual_income'], ascending = False).head(10)"
      ],
      "execution_count": 0,
      "outputs": [
        {
          "output_type": "execute_result",
          "data": {
            "text/html": [
              "<div>\n",
              "<style scoped>\n",
              "    .dataframe tbody tr th:only-of-type {\n",
              "        vertical-align: middle;\n",
              "    }\n",
              "\n",
              "    .dataframe tbody tr th {\n",
              "        vertical-align: top;\n",
              "    }\n",
              "\n",
              "    .dataframe thead th {\n",
              "        text-align: right;\n",
              "    }\n",
              "</style>\n",
              "<table border=\"1\" class=\"dataframe\">\n",
              "  <thead>\n",
              "    <tr style=\"text-align: right;\">\n",
              "      <th></th>\n",
              "      <th>host_id</th>\n",
              "      <th>anual_income</th>\n",
              "    </tr>\n",
              "  </thead>\n",
              "  <tbody>\n",
              "    <tr>\n",
              "      <th>28219</th>\n",
              "      <td>219517861</td>\n",
              "      <td>1351892.76</td>\n",
              "    </tr>\n",
              "    <tr>\n",
              "      <th>29857</th>\n",
              "      <td>262534951</td>\n",
              "      <td>554637.60</td>\n",
              "    </tr>\n",
              "    <tr>\n",
              "      <th>29173</th>\n",
              "      <td>244361589</td>\n",
              "      <td>180839.52</td>\n",
              "    </tr>\n",
              "    <tr>\n",
              "      <th>27705</th>\n",
              "      <td>205031545</td>\n",
              "      <td>179826.00</td>\n",
              "    </tr>\n",
              "    <tr>\n",
              "      <th>28448</th>\n",
              "      <td>224414117</td>\n",
              "      <td>164489.28</td>\n",
              "    </tr>\n",
              "    <tr>\n",
              "      <th>25846</th>\n",
              "      <td>152228055</td>\n",
              "      <td>156436.80</td>\n",
              "    </tr>\n",
              "    <tr>\n",
              "      <th>29174</th>\n",
              "      <td>244370442</td>\n",
              "      <td>119259.24</td>\n",
              "    </tr>\n",
              "    <tr>\n",
              "      <th>26238</th>\n",
              "      <td>159610596</td>\n",
              "      <td>110751.00</td>\n",
              "    </tr>\n",
              "    <tr>\n",
              "      <th>30099</th>\n",
              "      <td>266992480</td>\n",
              "      <td>108000.00</td>\n",
              "    </tr>\n",
              "    <tr>\n",
              "      <th>17125</th>\n",
              "      <td>35524316</td>\n",
              "      <td>89338.20</td>\n",
              "    </tr>\n",
              "  </tbody>\n",
              "</table>\n",
              "</div>"
            ],
            "text/plain": [
              "         host_id  anual_income\n",
              "28219  219517861    1351892.76\n",
              "29857  262534951     554637.60\n",
              "29173  244361589     180839.52\n",
              "27705  205031545     179826.00\n",
              "28448  224414117     164489.28\n",
              "25846  152228055     156436.80\n",
              "29174  244370442     119259.24\n",
              "26238  159610596     110751.00\n",
              "30099  266992480     108000.00\n",
              "17125   35524316      89338.20"
            ]
          },
          "metadata": {
            "tags": []
          },
          "execution_count": 135
        }
      ]
    },
    {
      "cell_type": "code",
      "metadata": {
        "id": "2MwTqx8AKe0p",
        "colab_type": "code",
        "colab": {}
      },
      "source": [
        "teste_hosts = host_anual_income.sort_values(by=['anual_income'], ascending = False).head(10)['host_id']"
      ],
      "execution_count": 0,
      "outputs": []
    },
    {
      "cell_type": "code",
      "metadata": {
        "id": "uma12xxNO1Ov",
        "colab_type": "code",
        "outputId": "d855cdcc-ee52-4b31-9d74-eb2e4747edb3",
        "colab": {
          "base_uri": "https://localhost:8080/",
          "height": 219
        }
      },
      "source": [
        "teste_hosts"
      ],
      "execution_count": 0,
      "outputs": [
        {
          "output_type": "execute_result",
          "data": {
            "text/plain": [
              "28219    219517861\n",
              "29857    262534951\n",
              "29173    244361589\n",
              "27705    205031545\n",
              "28448    224414117\n",
              "25846    152228055\n",
              "29174    244370442\n",
              "26238    159610596\n",
              "30099    266992480\n",
              "17125     35524316\n",
              "Name: host_id, dtype: int64"
            ]
          },
          "metadata": {
            "tags": []
          },
          "execution_count": 137
        }
      ]
    },
    {
      "cell_type": "code",
      "metadata": {
        "id": "jtpv_xI0O2Nw",
        "colab_type": "code",
        "colab": {}
      },
      "source": [
        "selecao = airbnb_host['host_id'].isin(teste_hosts)\n",
        "airbnb_value = airbnb_host[selecao]"
      ],
      "execution_count": 0,
      "outputs": []
    },
    {
      "cell_type": "code",
      "metadata": {
        "id": "aAw6qX5kO_Fk",
        "colab_type": "code",
        "outputId": "1df253c2-7157-40bf-9745-76760cfba90e",
        "colab": {
          "base_uri": "https://localhost:8080/",
          "height": 300
        }
      },
      "source": [
        "airbnb_value.describe()[['price','number_of_reviews','calculated_host_listings_count','availability_365']]"
      ],
      "execution_count": 0,
      "outputs": [
        {
          "output_type": "execute_result",
          "data": {
            "text/html": [
              "<div>\n",
              "<style scoped>\n",
              "    .dataframe tbody tr th:only-of-type {\n",
              "        vertical-align: middle;\n",
              "    }\n",
              "\n",
              "    .dataframe tbody tr th {\n",
              "        vertical-align: top;\n",
              "    }\n",
              "\n",
              "    .dataframe thead th {\n",
              "        text-align: right;\n",
              "    }\n",
              "</style>\n",
              "<table border=\"1\" class=\"dataframe\">\n",
              "  <thead>\n",
              "    <tr style=\"text-align: right;\">\n",
              "      <th></th>\n",
              "      <th>price</th>\n",
              "      <th>number_of_reviews</th>\n",
              "      <th>calculated_host_listings_count</th>\n",
              "      <th>availability_365</th>\n",
              "    </tr>\n",
              "  </thead>\n",
              "  <tbody>\n",
              "    <tr>\n",
              "      <th>count</th>\n",
              "      <td>304.000000</td>\n",
              "      <td>304.000000</td>\n",
              "      <td>304.000000</td>\n",
              "      <td>304.000000</td>\n",
              "    </tr>\n",
              "    <tr>\n",
              "      <th>mean</th>\n",
              "      <td>344.082237</td>\n",
              "      <td>15.401316</td>\n",
              "      <td>231.789474</td>\n",
              "      <td>276.026316</td>\n",
              "    </tr>\n",
              "    <tr>\n",
              "      <th>std</th>\n",
              "      <td>473.214591</td>\n",
              "      <td>35.854999</td>\n",
              "      <td>139.668591</td>\n",
              "      <td>78.413219</td>\n",
              "    </tr>\n",
              "    <tr>\n",
              "      <th>min</th>\n",
              "      <td>60.000000</td>\n",
              "      <td>1.000000</td>\n",
              "      <td>1.000000</td>\n",
              "      <td>1.000000</td>\n",
              "    </tr>\n",
              "    <tr>\n",
              "      <th>25%</th>\n",
              "      <td>205.000000</td>\n",
              "      <td>3.000000</td>\n",
              "      <td>49.000000</td>\n",
              "      <td>239.250000</td>\n",
              "    </tr>\n",
              "    <tr>\n",
              "      <th>50%</th>\n",
              "      <td>235.000000</td>\n",
              "      <td>6.000000</td>\n",
              "      <td>327.000000</td>\n",
              "      <td>299.000000</td>\n",
              "    </tr>\n",
              "    <tr>\n",
              "      <th>75%</th>\n",
              "      <td>393.000000</td>\n",
              "      <td>10.000000</td>\n",
              "      <td>327.000000</td>\n",
              "      <td>337.000000</td>\n",
              "    </tr>\n",
              "    <tr>\n",
              "      <th>max</th>\n",
              "      <td>7500.000000</td>\n",
              "      <td>203.000000</td>\n",
              "      <td>327.000000</td>\n",
              "      <td>365.000000</td>\n",
              "    </tr>\n",
              "  </tbody>\n",
              "</table>\n",
              "</div>"
            ],
            "text/plain": [
              "             price  ...  availability_365\n",
              "count   304.000000  ...        304.000000\n",
              "mean    344.082237  ...        276.026316\n",
              "std     473.214591  ...         78.413219\n",
              "min      60.000000  ...          1.000000\n",
              "25%     205.000000  ...        239.250000\n",
              "50%     235.000000  ...        299.000000\n",
              "75%     393.000000  ...        337.000000\n",
              "max    7500.000000  ...        365.000000\n",
              "\n",
              "[8 rows x 4 columns]"
            ]
          },
          "metadata": {
            "tags": []
          },
          "execution_count": 139
        }
      ]
    },
    {
      "cell_type": "code",
      "metadata": {
        "id": "tAoqb0LUPCAr",
        "colab_type": "code",
        "outputId": "44cda07d-0354-464b-badd-356ce9ebd40f",
        "colab": {
          "base_uri": "https://localhost:8080/",
          "height": 582
        }
      },
      "source": [
        "plt.figure(figsize=(10,10))\n",
        "i=urllib.request.urlopen('https://upload.wikimedia.org/wikipedia/commons/e/ec/Neighbourhoods_New_York_City_Map.PNG')\n",
        "nyc_img=plt.imread(i)\n",
        "#determinar a escala da figura de acordo com os limites de latitude e longitude\n",
        "plt.imshow(nyc_img,zorder=0,extent=[-74.258, -73.7, 40.49,40.92])\n",
        "ax=plt.gca()\n",
        "\n",
        "airbnb_value.plot(kind='scatter', x='longitude', y='latitude', label='availability_365', c='price', ax=ax, \n",
        "           cmap=plt.get_cmap('jet'), colorbar=True, alpha=0.4, zorder=5)\n",
        "plt.legend()\n",
        "plt.show()"
      ],
      "execution_count": 0,
      "outputs": [
        {
          "output_type": "display_data",
          "data": {
            "image/png": "[encoded data removed]",
            "text/plain": [
              "<Figure size 720x720 with 2 Axes>"
            ]
          },
          "metadata": {
            "tags": []
          }
        }
      ]
    },
    {
      "cell_type": "code",
      "metadata": {
        "id": "3p1WhsSUPBJB",
        "colab_type": "code",
        "outputId": "f350b3f1-817f-47c8-a4f5-1777c03d5dca",
        "colab": {
          "base_uri": "https://localhost:8080/",
          "height": 300
        }
      },
      "source": [
        "airbnb_value.describe()[['price','number_of_reviews','calculated_host_listings_count','availability_365']]"
      ],
      "execution_count": 0,
      "outputs": [
        {
          "output_type": "execute_result",
          "data": {
            "text/html": [
              "<div>\n",
              "<style scoped>\n",
              "    .dataframe tbody tr th:only-of-type {\n",
              "        vertical-align: middle;\n",
              "    }\n",
              "\n",
              "    .dataframe tbody tr th {\n",
              "        vertical-align: top;\n",
              "    }\n",
              "\n",
              "    .dataframe thead th {\n",
              "        text-align: right;\n",
              "    }\n",
              "</style>\n",
              "<table border=\"1\" class=\"dataframe\">\n",
              "  <thead>\n",
              "    <tr style=\"text-align: right;\">\n",
              "      <th></th>\n",
              "      <th>price</th>\n",
              "      <th>number_of_reviews</th>\n",
              "      <th>calculated_host_listings_count</th>\n",
              "      <th>availability_365</th>\n",
              "    </tr>\n",
              "  </thead>\n",
              "  <tbody>\n",
              "    <tr>\n",
              "      <th>count</th>\n",
              "      <td>304.000000</td>\n",
              "      <td>304.000000</td>\n",
              "      <td>304.000000</td>\n",
              "      <td>304.000000</td>\n",
              "    </tr>\n",
              "    <tr>\n",
              "      <th>mean</th>\n",
              "      <td>344.082237</td>\n",
              "      <td>15.401316</td>\n",
              "      <td>231.789474</td>\n",
              "      <td>276.026316</td>\n",
              "    </tr>\n",
              "    <tr>\n",
              "      <th>std</th>\n",
              "      <td>473.214591</td>\n",
              "      <td>35.854999</td>\n",
              "      <td>139.668591</td>\n",
              "      <td>78.413219</td>\n",
              "    </tr>\n",
              "    <tr>\n",
              "      <th>min</th>\n",
              "      <td>60.000000</td>\n",
              "      <td>1.000000</td>\n",
              "      <td>1.000000</td>\n",
              "      <td>1.000000</td>\n",
              "    </tr>\n",
              "    <tr>\n",
              "      <th>25%</th>\n",
              "      <td>205.000000</td>\n",
              "      <td>3.000000</td>\n",
              "      <td>49.000000</td>\n",
              "      <td>239.250000</td>\n",
              "    </tr>\n",
              "    <tr>\n",
              "      <th>50%</th>\n",
              "      <td>235.000000</td>\n",
              "      <td>6.000000</td>\n",
              "      <td>327.000000</td>\n",
              "      <td>299.000000</td>\n",
              "    </tr>\n",
              "    <tr>\n",
              "      <th>75%</th>\n",
              "      <td>393.000000</td>\n",
              "      <td>10.000000</td>\n",
              "      <td>327.000000</td>\n",
              "      <td>337.000000</td>\n",
              "    </tr>\n",
              "    <tr>\n",
              "      <th>max</th>\n",
              "      <td>7500.000000</td>\n",
              "      <td>203.000000</td>\n",
              "      <td>327.000000</td>\n",
              "      <td>365.000000</td>\n",
              "    </tr>\n",
              "  </tbody>\n",
              "</table>\n",
              "</div>"
            ],
            "text/plain": [
              "             price  ...  availability_365\n",
              "count   304.000000  ...        304.000000\n",
              "mean    344.082237  ...        276.026316\n",
              "std     473.214591  ...         78.413219\n",
              "min      60.000000  ...          1.000000\n",
              "25%     205.000000  ...        239.250000\n",
              "50%     235.000000  ...        299.000000\n",
              "75%     393.000000  ...        337.000000\n",
              "max    7500.000000  ...        365.000000\n",
              "\n",
              "[8 rows x 4 columns]"
            ]
          },
          "metadata": {
            "tags": []
          },
          "execution_count": 141
        }
      ]
    },
    {
      "cell_type": "code",
      "metadata": {
        "id": "qfMVVKFvP1cj",
        "colab_type": "code",
        "outputId": "349a9eb8-6005-4396-8073-a7827b8d1cc7",
        "colab": {
          "base_uri": "https://localhost:8080/",
          "height": 300
        }
      },
      "source": [
        "airbnb_limpo.describe()[['price','number_of_reviews','calculated_host_listings_count','availability_365']]"
      ],
      "execution_count": 0,
      "outputs": [
        {
          "output_type": "execute_result",
          "data": {
            "text/html": [
              "<div>\n",
              "<style scoped>\n",
              "    .dataframe tbody tr th:only-of-type {\n",
              "        vertical-align: middle;\n",
              "    }\n",
              "\n",
              "    .dataframe tbody tr th {\n",
              "        vertical-align: top;\n",
              "    }\n",
              "\n",
              "    .dataframe thead th {\n",
              "        text-align: right;\n",
              "    }\n",
              "</style>\n",
              "<table border=\"1\" class=\"dataframe\">\n",
              "  <thead>\n",
              "    <tr style=\"text-align: right;\">\n",
              "      <th></th>\n",
              "      <th>price</th>\n",
              "      <th>number_of_reviews</th>\n",
              "      <th>calculated_host_listings_count</th>\n",
              "      <th>availability_365</th>\n",
              "    </tr>\n",
              "  </thead>\n",
              "  <tbody>\n",
              "    <tr>\n",
              "      <th>count</th>\n",
              "      <td>48895.000000</td>\n",
              "      <td>48895.000000</td>\n",
              "      <td>48895.000000</td>\n",
              "      <td>48895.000000</td>\n",
              "    </tr>\n",
              "    <tr>\n",
              "      <th>mean</th>\n",
              "      <td>152.720687</td>\n",
              "      <td>23.274466</td>\n",
              "      <td>7.143982</td>\n",
              "      <td>112.781327</td>\n",
              "    </tr>\n",
              "    <tr>\n",
              "      <th>std</th>\n",
              "      <td>240.154170</td>\n",
              "      <td>44.550582</td>\n",
              "      <td>32.952519</td>\n",
              "      <td>131.622289</td>\n",
              "    </tr>\n",
              "    <tr>\n",
              "      <th>min</th>\n",
              "      <td>0.000000</td>\n",
              "      <td>0.000000</td>\n",
              "      <td>1.000000</td>\n",
              "      <td>0.000000</td>\n",
              "    </tr>\n",
              "    <tr>\n",
              "      <th>25%</th>\n",
              "      <td>69.000000</td>\n",
              "      <td>1.000000</td>\n",
              "      <td>1.000000</td>\n",
              "      <td>0.000000</td>\n",
              "    </tr>\n",
              "    <tr>\n",
              "      <th>50%</th>\n",
              "      <td>106.000000</td>\n",
              "      <td>5.000000</td>\n",
              "      <td>1.000000</td>\n",
              "      <td>45.000000</td>\n",
              "    </tr>\n",
              "    <tr>\n",
              "      <th>75%</th>\n",
              "      <td>175.000000</td>\n",
              "      <td>24.000000</td>\n",
              "      <td>2.000000</td>\n",
              "      <td>227.000000</td>\n",
              "    </tr>\n",
              "    <tr>\n",
              "      <th>max</th>\n",
              "      <td>10000.000000</td>\n",
              "      <td>629.000000</td>\n",
              "      <td>327.000000</td>\n",
              "      <td>365.000000</td>\n",
              "    </tr>\n",
              "  </tbody>\n",
              "</table>\n",
              "</div>"
            ],
            "text/plain": [
              "              price  ...  availability_365\n",
              "count  48895.000000  ...      48895.000000\n",
              "mean     152.720687  ...        112.781327\n",
              "std      240.154170  ...        131.622289\n",
              "min        0.000000  ...          0.000000\n",
              "25%       69.000000  ...          0.000000\n",
              "50%      106.000000  ...         45.000000\n",
              "75%      175.000000  ...        227.000000\n",
              "max    10000.000000  ...        365.000000\n",
              "\n",
              "[8 rows x 4 columns]"
            ]
          },
          "metadata": {
            "tags": []
          },
          "execution_count": 142
        }
      ]
    },
    {
      "cell_type": "markdown",
      "metadata": {
        "id": "5cAWQeCuUWtP",
        "colab_type": "text"
      },
      "source": [
        "Podemos notar que os hosts com o **maior faturamento** se encontram na **região de Manhatan**, tem um **valor por imóvel bem acima da média da base**, assim como uma **maior quantidade de imóveis cadastrados**. Aumentando o faturamento."
      ]
    },
    {
      "cell_type": "markdown",
      "metadata": {
        "id": "6rO-FPdkUsXR",
        "colab_type": "text"
      },
      "source": [
        "# Novos Hosts\n"
      ]
    },
    {
      "cell_type": "markdown",
      "metadata": {
        "id": "qpSZ2ReSYQHT",
        "colab_type": "text"
      },
      "source": [
        "### Questão 6"
      ]
    },
    {
      "cell_type": "code",
      "metadata": {
        "id": "Y1UTwrOuQtpv",
        "colab_type": "code",
        "colab": {}
      },
      "source": [
        "airbnb_novos = airbnb_limpo.query('number_of_reviews == 0')"
      ],
      "execution_count": 0,
      "outputs": []
    },
    {
      "cell_type": "code",
      "metadata": {
        "id": "NS9HGjShUvEo",
        "colab_type": "code",
        "colab": {}
      },
      "source": [
        "airbnb_novos_mh = airbnb_novos.loc[(airbnb_novos['neighbourhood_group'].astype(str).str.contains(\"Manhattan\"))]"
      ],
      "execution_count": 0,
      "outputs": []
    },
    {
      "cell_type": "code",
      "metadata": {
        "id": "6tMJoYI-VFJk",
        "colab_type": "code",
        "colab": {}
      },
      "source": [
        "selecao = airbnb_novos_mh['neighbourhood'].isin(bairros_mais_procurados)\n",
        "airbnb_novos_mh_bairros = airbnb_novos_mh[selecao]"
      ],
      "execution_count": 0,
      "outputs": []
    },
    {
      "cell_type": "code",
      "metadata": {
        "id": "777BzjYTVbte",
        "colab_type": "code",
        "colab": {}
      },
      "source": [
        "airbnb_novos_mh_bairros =airbnb_novos_mh_bairros.query('calculated_host_listings_count == 1')"
      ],
      "execution_count": 0,
      "outputs": []
    },
    {
      "cell_type": "code",
      "metadata": {
        "id": "H66QxIX9VzZ7",
        "colab_type": "code",
        "outputId": "b5e55ee0-0edb-48ec-ab9b-9c34aeec2a8d",
        "colab": {
          "base_uri": "https://localhost:8080/",
          "height": 320
        }
      },
      "source": [
        "airbnb_novos_mh_bairros.describe()"
      ],
      "execution_count": 0,
      "outputs": [
        {
          "output_type": "execute_result",
          "data": {
            "text/html": [
              "<div>\n",
              "<style scoped>\n",
              "    .dataframe tbody tr th:only-of-type {\n",
              "        vertical-align: middle;\n",
              "    }\n",
              "\n",
              "    .dataframe tbody tr th {\n",
              "        vertical-align: top;\n",
              "    }\n",
              "\n",
              "    .dataframe thead th {\n",
              "        text-align: right;\n",
              "    }\n",
              "</style>\n",
              "<table border=\"1\" class=\"dataframe\">\n",
              "  <thead>\n",
              "    <tr style=\"text-align: right;\">\n",
              "      <th></th>\n",
              "      <th>id</th>\n",
              "      <th>host_id</th>\n",
              "      <th>latitude</th>\n",
              "      <th>longitude</th>\n",
              "      <th>price</th>\n",
              "      <th>minimum_nights</th>\n",
              "      <th>number_of_reviews</th>\n",
              "      <th>reviews_per_month</th>\n",
              "      <th>calculated_host_listings_count</th>\n",
              "      <th>availability_365</th>\n",
              "      <th>anual_income</th>\n",
              "    </tr>\n",
              "  </thead>\n",
              "  <tbody>\n",
              "    <tr>\n",
              "      <th>count</th>\n",
              "      <td>2.560000e+02</td>\n",
              "      <td>2.560000e+02</td>\n",
              "      <td>256.000000</td>\n",
              "      <td>256.000000</td>\n",
              "      <td>256.000000</td>\n",
              "      <td>256.000000</td>\n",
              "      <td>256.0</td>\n",
              "      <td>256.0</td>\n",
              "      <td>256.0</td>\n",
              "      <td>256.000000</td>\n",
              "      <td>256.0</td>\n",
              "    </tr>\n",
              "    <tr>\n",
              "      <th>mean</th>\n",
              "      <td>2.088634e+07</td>\n",
              "      <td>8.134185e+07</td>\n",
              "      <td>40.762070</td>\n",
              "      <td>-73.991668</td>\n",
              "      <td>249.597656</td>\n",
              "      <td>7.246094</td>\n",
              "      <td>0.0</td>\n",
              "      <td>0.0</td>\n",
              "      <td>1.0</td>\n",
              "      <td>50.613281</td>\n",
              "      <td>0.0</td>\n",
              "    </tr>\n",
              "    <tr>\n",
              "      <th>std</th>\n",
              "      <td>1.220018e+07</td>\n",
              "      <td>9.025017e+07</td>\n",
              "      <td>0.004013</td>\n",
              "      <td>0.003774</td>\n",
              "      <td>260.855993</td>\n",
              "      <td>26.438497</td>\n",
              "      <td>0.0</td>\n",
              "      <td>0.0</td>\n",
              "      <td>0.0</td>\n",
              "      <td>99.425738</td>\n",
              "      <td>0.0</td>\n",
              "    </tr>\n",
              "    <tr>\n",
              "      <th>min</th>\n",
              "      <td>4.742830e+05</td>\n",
              "      <td>5.168770e+05</td>\n",
              "      <td>40.753510</td>\n",
              "      <td>-74.000330</td>\n",
              "      <td>15.000000</td>\n",
              "      <td>1.000000</td>\n",
              "      <td>0.0</td>\n",
              "      <td>0.0</td>\n",
              "      <td>1.0</td>\n",
              "      <td>0.000000</td>\n",
              "      <td>0.0</td>\n",
              "    </tr>\n",
              "    <tr>\n",
              "      <th>25%</th>\n",
              "      <td>9.795675e+06</td>\n",
              "      <td>1.445613e+07</td>\n",
              "      <td>40.759295</td>\n",
              "      <td>-73.994252</td>\n",
              "      <td>125.000000</td>\n",
              "      <td>1.000000</td>\n",
              "      <td>0.0</td>\n",
              "      <td>0.0</td>\n",
              "      <td>1.0</td>\n",
              "      <td>0.000000</td>\n",
              "      <td>0.0</td>\n",
              "    </tr>\n",
              "    <tr>\n",
              "      <th>50%</th>\n",
              "      <td>1.959135e+07</td>\n",
              "      <td>4.109666e+07</td>\n",
              "      <td>40.762455</td>\n",
              "      <td>-73.991665</td>\n",
              "      <td>190.000000</td>\n",
              "      <td>2.000000</td>\n",
              "      <td>0.0</td>\n",
              "      <td>0.0</td>\n",
              "      <td>1.0</td>\n",
              "      <td>0.000000</td>\n",
              "      <td>0.0</td>\n",
              "    </tr>\n",
              "    <tr>\n",
              "      <th>75%</th>\n",
              "      <td>3.503359e+07</td>\n",
              "      <td>1.341486e+08</td>\n",
              "      <td>40.764880</td>\n",
              "      <td>-73.988933</td>\n",
              "      <td>286.000000</td>\n",
              "      <td>4.000000</td>\n",
              "      <td>0.0</td>\n",
              "      <td>0.0</td>\n",
              "      <td>1.0</td>\n",
              "      <td>41.750000</td>\n",
              "      <td>0.0</td>\n",
              "    </tr>\n",
              "    <tr>\n",
              "      <th>max</th>\n",
              "      <td>3.648724e+07</td>\n",
              "      <td>2.743213e+08</td>\n",
              "      <td>40.771570</td>\n",
              "      <td>-73.983880</td>\n",
              "      <td>2999.000000</td>\n",
              "      <td>360.000000</td>\n",
              "      <td>0.0</td>\n",
              "      <td>0.0</td>\n",
              "      <td>1.0</td>\n",
              "      <td>365.000000</td>\n",
              "      <td>0.0</td>\n",
              "    </tr>\n",
              "  </tbody>\n",
              "</table>\n",
              "</div>"
            ],
            "text/plain": [
              "                 id       host_id  ...  availability_365  anual_income\n",
              "count  2.560000e+02  2.560000e+02  ...        256.000000         256.0\n",
              "mean   2.088634e+07  8.134185e+07  ...         50.613281           0.0\n",
              "std    1.220018e+07  9.025017e+07  ...         99.425738           0.0\n",
              "min    4.742830e+05  5.168770e+05  ...          0.000000           0.0\n",
              "25%    9.795675e+06  1.445613e+07  ...          0.000000           0.0\n",
              "50%    1.959135e+07  4.109666e+07  ...          0.000000           0.0\n",
              "75%    3.503359e+07  1.341486e+08  ...         41.750000           0.0\n",
              "max    3.648724e+07  2.743213e+08  ...        365.000000           0.0\n",
              "\n",
              "[8 rows x 11 columns]"
            ]
          },
          "metadata": {
            "tags": []
          },
          "execution_count": 147
        }
      ]
    },
    {
      "cell_type": "code",
      "metadata": {
        "id": "ViYJXMpOV0q4",
        "colab_type": "code",
        "colab": {}
      },
      "source": [
        "airbnb_novos_mh_bairros =airbnb_novos_mh_bairros.query('availability_365 == 0')"
      ],
      "execution_count": 0,
      "outputs": []
    },
    {
      "cell_type": "code",
      "metadata": {
        "id": "4itXYSjOV_3B",
        "colab_type": "code",
        "outputId": "9bf69e9a-5e1b-4fd6-a1b3-4e770176e2e0",
        "colab": {
          "base_uri": "https://localhost:8080/",
          "height": 320
        }
      },
      "source": [
        "airbnb_novos_mh_bairros.describe()"
      ],
      "execution_count": 0,
      "outputs": [
        {
          "output_type": "execute_result",
          "data": {
            "text/html": [
              "<div>\n",
              "<style scoped>\n",
              "    .dataframe tbody tr th:only-of-type {\n",
              "        vertical-align: middle;\n",
              "    }\n",
              "\n",
              "    .dataframe tbody tr th {\n",
              "        vertical-align: top;\n",
              "    }\n",
              "\n",
              "    .dataframe thead th {\n",
              "        text-align: right;\n",
              "    }\n",
              "</style>\n",
              "<table border=\"1\" class=\"dataframe\">\n",
              "  <thead>\n",
              "    <tr style=\"text-align: right;\">\n",
              "      <th></th>\n",
              "      <th>id</th>\n",
              "      <th>host_id</th>\n",
              "      <th>latitude</th>\n",
              "      <th>longitude</th>\n",
              "      <th>price</th>\n",
              "      <th>minimum_nights</th>\n",
              "      <th>number_of_reviews</th>\n",
              "      <th>reviews_per_month</th>\n",
              "      <th>calculated_host_listings_count</th>\n",
              "      <th>availability_365</th>\n",
              "      <th>anual_income</th>\n",
              "    </tr>\n",
              "  </thead>\n",
              "  <tbody>\n",
              "    <tr>\n",
              "      <th>count</th>\n",
              "      <td>1.610000e+02</td>\n",
              "      <td>1.610000e+02</td>\n",
              "      <td>161.000000</td>\n",
              "      <td>161.000000</td>\n",
              "      <td>161.000000</td>\n",
              "      <td>161.000000</td>\n",
              "      <td>161.0</td>\n",
              "      <td>161.0</td>\n",
              "      <td>161.0</td>\n",
              "      <td>161.0</td>\n",
              "      <td>161.0</td>\n",
              "    </tr>\n",
              "    <tr>\n",
              "      <th>mean</th>\n",
              "      <td>1.409822e+07</td>\n",
              "      <td>4.309624e+07</td>\n",
              "      <td>40.761729</td>\n",
              "      <td>-73.991325</td>\n",
              "      <td>208.844720</td>\n",
              "      <td>3.546584</td>\n",
              "      <td>0.0</td>\n",
              "      <td>0.0</td>\n",
              "      <td>1.0</td>\n",
              "      <td>0.0</td>\n",
              "      <td>0.0</td>\n",
              "    </tr>\n",
              "    <tr>\n",
              "      <th>std</th>\n",
              "      <td>8.613329e+06</td>\n",
              "      <td>5.158258e+07</td>\n",
              "      <td>0.003947</td>\n",
              "      <td>0.003804</td>\n",
              "      <td>164.385011</td>\n",
              "      <td>4.937042</td>\n",
              "      <td>0.0</td>\n",
              "      <td>0.0</td>\n",
              "      <td>0.0</td>\n",
              "      <td>0.0</td>\n",
              "      <td>0.0</td>\n",
              "    </tr>\n",
              "    <tr>\n",
              "      <th>min</th>\n",
              "      <td>4.742830e+05</td>\n",
              "      <td>5.168770e+05</td>\n",
              "      <td>40.753610</td>\n",
              "      <td>-73.999780</td>\n",
              "      <td>30.000000</td>\n",
              "      <td>1.000000</td>\n",
              "      <td>0.0</td>\n",
              "      <td>0.0</td>\n",
              "      <td>1.0</td>\n",
              "      <td>0.0</td>\n",
              "      <td>0.0</td>\n",
              "    </tr>\n",
              "    <tr>\n",
              "      <th>25%</th>\n",
              "      <td>7.632128e+06</td>\n",
              "      <td>1.015848e+07</td>\n",
              "      <td>40.759000</td>\n",
              "      <td>-73.994040</td>\n",
              "      <td>105.000000</td>\n",
              "      <td>1.000000</td>\n",
              "      <td>0.0</td>\n",
              "      <td>0.0</td>\n",
              "      <td>1.0</td>\n",
              "      <td>0.0</td>\n",
              "      <td>0.0</td>\n",
              "    </tr>\n",
              "    <tr>\n",
              "      <th>50%</th>\n",
              "      <td>1.238849e+07</td>\n",
              "      <td>2.511143e+07</td>\n",
              "      <td>40.762080</td>\n",
              "      <td>-73.991430</td>\n",
              "      <td>175.000000</td>\n",
              "      <td>2.000000</td>\n",
              "      <td>0.0</td>\n",
              "      <td>0.0</td>\n",
              "      <td>1.0</td>\n",
              "      <td>0.0</td>\n",
              "      <td>0.0</td>\n",
              "    </tr>\n",
              "    <tr>\n",
              "      <th>75%</th>\n",
              "      <td>1.962654e+07</td>\n",
              "      <td>5.152201e+07</td>\n",
              "      <td>40.764700</td>\n",
              "      <td>-73.988490</td>\n",
              "      <td>250.000000</td>\n",
              "      <td>4.000000</td>\n",
              "      <td>0.0</td>\n",
              "      <td>0.0</td>\n",
              "      <td>1.0</td>\n",
              "      <td>0.0</td>\n",
              "      <td>0.0</td>\n",
              "    </tr>\n",
              "    <tr>\n",
              "      <th>max</th>\n",
              "      <td>3.616976e+07</td>\n",
              "      <td>2.413670e+08</td>\n",
              "      <td>40.769090</td>\n",
              "      <td>-73.983880</td>\n",
              "      <td>1450.000000</td>\n",
              "      <td>36.000000</td>\n",
              "      <td>0.0</td>\n",
              "      <td>0.0</td>\n",
              "      <td>1.0</td>\n",
              "      <td>0.0</td>\n",
              "      <td>0.0</td>\n",
              "    </tr>\n",
              "  </tbody>\n",
              "</table>\n",
              "</div>"
            ],
            "text/plain": [
              "                 id       host_id  ...  availability_365  anual_income\n",
              "count  1.610000e+02  1.610000e+02  ...             161.0         161.0\n",
              "mean   1.409822e+07  4.309624e+07  ...               0.0           0.0\n",
              "std    8.613329e+06  5.158258e+07  ...               0.0           0.0\n",
              "min    4.742830e+05  5.168770e+05  ...               0.0           0.0\n",
              "25%    7.632128e+06  1.015848e+07  ...               0.0           0.0\n",
              "50%    1.238849e+07  2.511143e+07  ...               0.0           0.0\n",
              "75%    1.962654e+07  5.152201e+07  ...               0.0           0.0\n",
              "max    3.616976e+07  2.413670e+08  ...               0.0           0.0\n",
              "\n",
              "[8 rows x 11 columns]"
            ]
          },
          "metadata": {
            "tags": []
          },
          "execution_count": 149
        }
      ]
    },
    {
      "cell_type": "markdown",
      "metadata": {
        "id": "xSvU-jVJWRYZ",
        "colab_type": "text"
      },
      "source": [
        "Para analisar os novos hosts, foi considerado os indicadores com **menores índices** dentro dos **bairros mais procurados**.\n",
        "Hosts nos bairros mais procurados, com **availability = 0**, **sem recomendações**, e com o **número de cadastros igual a 1**, como estão em uma região de grande procura, provavelmente são novos usuários na plataforma."
      ]
    },
    {
      "cell_type": "code",
      "metadata": {
        "id": "ZR3WkhmYWZUQ",
        "colab_type": "code",
        "colab": {}
      },
      "source": [
        "escolha = [950232, 4022922]"
      ],
      "execution_count": 0,
      "outputs": []
    },
    {
      "cell_type": "code",
      "metadata": {
        "id": "chj4radeZAl2",
        "colab_type": "code",
        "outputId": "9faef572-9533-4ab5-9d96-7e34622caa9b",
        "colab": {
          "base_uri": "https://localhost:8080/",
          "height": 1000
        }
      },
      "source": [
        "airbnb_novos_mh_bairros"
      ],
      "execution_count": 0,
      "outputs": [
        {
          "output_type": "execute_result",
          "data": {
            "text/html": [
              "<div>\n",
              "<style scoped>\n",
              "    .dataframe tbody tr th:only-of-type {\n",
              "        vertical-align: middle;\n",
              "    }\n",
              "\n",
              "    .dataframe tbody tr th {\n",
              "        vertical-align: top;\n",
              "    }\n",
              "\n",
              "    .dataframe thead th {\n",
              "        text-align: right;\n",
              "    }\n",
              "</style>\n",
              "<table border=\"1\" class=\"dataframe\">\n",
              "  <thead>\n",
              "    <tr style=\"text-align: right;\">\n",
              "      <th></th>\n",
              "      <th>id</th>\n",
              "      <th>host_id</th>\n",
              "      <th>neighbourhood_group</th>\n",
              "      <th>neighbourhood</th>\n",
              "      <th>latitude</th>\n",
              "      <th>longitude</th>\n",
              "      <th>room_type</th>\n",
              "      <th>price</th>\n",
              "      <th>minimum_nights</th>\n",
              "      <th>number_of_reviews</th>\n",
              "      <th>last_review</th>\n",
              "      <th>reviews_per_month</th>\n",
              "      <th>calculated_host_listings_count</th>\n",
              "      <th>availability_365</th>\n",
              "      <th>anual_income</th>\n",
              "    </tr>\n",
              "  </thead>\n",
              "  <tbody>\n",
              "    <tr>\n",
              "      <th>1119</th>\n",
              "      <td>474283</td>\n",
              "      <td>950232</td>\n",
              "      <td>Manhattan</td>\n",
              "      <td>Hell's Kitchen</td>\n",
              "      <td>40.76487</td>\n",
              "      <td>-73.98471</td>\n",
              "      <td>Entire home/apt</td>\n",
              "      <td>117</td>\n",
              "      <td>7</td>\n",
              "      <td>0</td>\n",
              "      <td>0</td>\n",
              "      <td>0.0</td>\n",
              "      <td>1</td>\n",
              "      <td>0</td>\n",
              "      <td>0.0</td>\n",
              "    </tr>\n",
              "    <tr>\n",
              "      <th>1691</th>\n",
              "      <td>766814</td>\n",
              "      <td>4022922</td>\n",
              "      <td>Manhattan</td>\n",
              "      <td>Hell's Kitchen</td>\n",
              "      <td>40.75900</td>\n",
              "      <td>-73.99530</td>\n",
              "      <td>Entire home/apt</td>\n",
              "      <td>95</td>\n",
              "      <td>1</td>\n",
              "      <td>0</td>\n",
              "      <td>0</td>\n",
              "      <td>0.0</td>\n",
              "      <td>1</td>\n",
              "      <td>0</td>\n",
              "      <td>0.0</td>\n",
              "    </tr>\n",
              "    <tr>\n",
              "      <th>3267</th>\n",
              "      <td>1950318</td>\n",
              "      <td>10074602</td>\n",
              "      <td>Manhattan</td>\n",
              "      <td>Hell's Kitchen</td>\n",
              "      <td>40.76435</td>\n",
              "      <td>-73.99054</td>\n",
              "      <td>Entire home/apt</td>\n",
              "      <td>200</td>\n",
              "      <td>5</td>\n",
              "      <td>0</td>\n",
              "      <td>0</td>\n",
              "      <td>0.0</td>\n",
              "      <td>1</td>\n",
              "      <td>0</td>\n",
              "      <td>0.0</td>\n",
              "    </tr>\n",
              "    <tr>\n",
              "      <th>3451</th>\n",
              "      <td>2070290</td>\n",
              "      <td>10585956</td>\n",
              "      <td>Manhattan</td>\n",
              "      <td>Hell's Kitchen</td>\n",
              "      <td>40.76874</td>\n",
              "      <td>-73.98757</td>\n",
              "      <td>Entire home/apt</td>\n",
              "      <td>599</td>\n",
              "      <td>1</td>\n",
              "      <td>0</td>\n",
              "      <td>0</td>\n",
              "      <td>0.0</td>\n",
              "      <td>1</td>\n",
              "      <td>0</td>\n",
              "      <td>0.0</td>\n",
              "    </tr>\n",
              "    <tr>\n",
              "      <th>3514</th>\n",
              "      <td>2101710</td>\n",
              "      <td>10717291</td>\n",
              "      <td>Manhattan</td>\n",
              "      <td>Hell's Kitchen</td>\n",
              "      <td>40.76204</td>\n",
              "      <td>-73.99143</td>\n",
              "      <td>Entire home/apt</td>\n",
              "      <td>175</td>\n",
              "      <td>1</td>\n",
              "      <td>0</td>\n",
              "      <td>0</td>\n",
              "      <td>0.0</td>\n",
              "      <td>1</td>\n",
              "      <td>0</td>\n",
              "      <td>0.0</td>\n",
              "    </tr>\n",
              "    <tr>\n",
              "      <th>3635</th>\n",
              "      <td>2185842</td>\n",
              "      <td>6910298</td>\n",
              "      <td>Manhattan</td>\n",
              "      <td>Hell's Kitchen</td>\n",
              "      <td>40.76000</td>\n",
              "      <td>-73.99009</td>\n",
              "      <td>Entire home/apt</td>\n",
              "      <td>850</td>\n",
              "      <td>1</td>\n",
              "      <td>0</td>\n",
              "      <td>0</td>\n",
              "      <td>0.0</td>\n",
              "      <td>1</td>\n",
              "      <td>0</td>\n",
              "      <td>0.0</td>\n",
              "    </tr>\n",
              "    <tr>\n",
              "      <th>3752</th>\n",
              "      <td>2257080</td>\n",
              "      <td>3312524</td>\n",
              "      <td>Manhattan</td>\n",
              "      <td>Hell's Kitchen</td>\n",
              "      <td>40.75361</td>\n",
              "      <td>-73.99501</td>\n",
              "      <td>Entire home/apt</td>\n",
              "      <td>350</td>\n",
              "      <td>1</td>\n",
              "      <td>0</td>\n",
              "      <td>0</td>\n",
              "      <td>0.0</td>\n",
              "      <td>1</td>\n",
              "      <td>0</td>\n",
              "      <td>0.0</td>\n",
              "    </tr>\n",
              "    <tr>\n",
              "      <th>3808</th>\n",
              "      <td>2294663</td>\n",
              "      <td>6509406</td>\n",
              "      <td>Manhattan</td>\n",
              "      <td>Hell's Kitchen</td>\n",
              "      <td>40.75786</td>\n",
              "      <td>-73.99485</td>\n",
              "      <td>Entire home/apt</td>\n",
              "      <td>800</td>\n",
              "      <td>1</td>\n",
              "      <td>0</td>\n",
              "      <td>0</td>\n",
              "      <td>0.0</td>\n",
              "      <td>1</td>\n",
              "      <td>0</td>\n",
              "      <td>0.0</td>\n",
              "    </tr>\n",
              "    <tr>\n",
              "      <th>3816</th>\n",
              "      <td>2298759</td>\n",
              "      <td>11741773</td>\n",
              "      <td>Manhattan</td>\n",
              "      <td>Hell's Kitchen</td>\n",
              "      <td>40.76774</td>\n",
              "      <td>-73.98503</td>\n",
              "      <td>Entire home/apt</td>\n",
              "      <td>425</td>\n",
              "      <td>1</td>\n",
              "      <td>0</td>\n",
              "      <td>0</td>\n",
              "      <td>0.0</td>\n",
              "      <td>1</td>\n",
              "      <td>0</td>\n",
              "      <td>0.0</td>\n",
              "    </tr>\n",
              "    <tr>\n",
              "      <th>4352</th>\n",
              "      <td>2925138</td>\n",
              "      <td>14935685</td>\n",
              "      <td>Manhattan</td>\n",
              "      <td>Hell's Kitchen</td>\n",
              "      <td>40.76761</td>\n",
              "      <td>-73.98497</td>\n",
              "      <td>Entire home/apt</td>\n",
              "      <td>250</td>\n",
              "      <td>1</td>\n",
              "      <td>0</td>\n",
              "      <td>0</td>\n",
              "      <td>0.0</td>\n",
              "      <td>1</td>\n",
              "      <td>0</td>\n",
              "      <td>0.0</td>\n",
              "    </tr>\n",
              "    <tr>\n",
              "      <th>4774</th>\n",
              "      <td>3378585</td>\n",
              "      <td>13535952</td>\n",
              "      <td>Manhattan</td>\n",
              "      <td>Hell's Kitchen</td>\n",
              "      <td>40.76125</td>\n",
              "      <td>-73.99642</td>\n",
              "      <td>Entire home/apt</td>\n",
              "      <td>300</td>\n",
              "      <td>1</td>\n",
              "      <td>0</td>\n",
              "      <td>0</td>\n",
              "      <td>0.0</td>\n",
              "      <td>1</td>\n",
              "      <td>0</td>\n",
              "      <td>0.0</td>\n",
              "    </tr>\n",
              "    <tr>\n",
              "      <th>4858</th>\n",
              "      <td>3464727</td>\n",
              "      <td>17456385</td>\n",
              "      <td>Manhattan</td>\n",
              "      <td>Hell's Kitchen</td>\n",
              "      <td>40.76753</td>\n",
              "      <td>-73.98397</td>\n",
              "      <td>Entire home/apt</td>\n",
              "      <td>150</td>\n",
              "      <td>1</td>\n",
              "      <td>0</td>\n",
              "      <td>0</td>\n",
              "      <td>0.0</td>\n",
              "      <td>1</td>\n",
              "      <td>0</td>\n",
              "      <td>0.0</td>\n",
              "    </tr>\n",
              "    <tr>\n",
              "      <th>4933</th>\n",
              "      <td>3533741</td>\n",
              "      <td>17791294</td>\n",
              "      <td>Manhattan</td>\n",
              "      <td>Hell's Kitchen</td>\n",
              "      <td>40.76878</td>\n",
              "      <td>-73.98719</td>\n",
              "      <td>Private room</td>\n",
              "      <td>110</td>\n",
              "      <td>1</td>\n",
              "      <td>0</td>\n",
              "      <td>0</td>\n",
              "      <td>0.0</td>\n",
              "      <td>1</td>\n",
              "      <td>0</td>\n",
              "      <td>0.0</td>\n",
              "    </tr>\n",
              "    <tr>\n",
              "      <th>5149</th>\n",
              "      <td>3706213</td>\n",
              "      <td>10856201</td>\n",
              "      <td>Manhattan</td>\n",
              "      <td>Hell's Kitchen</td>\n",
              "      <td>40.76027</td>\n",
              "      <td>-73.99081</td>\n",
              "      <td>Entire home/apt</td>\n",
              "      <td>190</td>\n",
              "      <td>1</td>\n",
              "      <td>0</td>\n",
              "      <td>0</td>\n",
              "      <td>0.0</td>\n",
              "      <td>1</td>\n",
              "      <td>0</td>\n",
              "      <td>0.0</td>\n",
              "    </tr>\n",
              "    <tr>\n",
              "      <th>5352</th>\n",
              "      <td>3864528</td>\n",
              "      <td>19800918</td>\n",
              "      <td>Manhattan</td>\n",
              "      <td>Hell's Kitchen</td>\n",
              "      <td>40.76053</td>\n",
              "      <td>-73.99002</td>\n",
              "      <td>Private room</td>\n",
              "      <td>200</td>\n",
              "      <td>1</td>\n",
              "      <td>0</td>\n",
              "      <td>0</td>\n",
              "      <td>0.0</td>\n",
              "      <td>1</td>\n",
              "      <td>0</td>\n",
              "      <td>0.0</td>\n",
              "    </tr>\n",
              "    <tr>\n",
              "      <th>5841</th>\n",
              "      <td>4263488</td>\n",
              "      <td>7651028</td>\n",
              "      <td>Manhattan</td>\n",
              "      <td>Hell's Kitchen</td>\n",
              "      <td>40.76842</td>\n",
              "      <td>-73.98589</td>\n",
              "      <td>Entire home/apt</td>\n",
              "      <td>150</td>\n",
              "      <td>1</td>\n",
              "      <td>0</td>\n",
              "      <td>0</td>\n",
              "      <td>0.0</td>\n",
              "      <td>1</td>\n",
              "      <td>0</td>\n",
              "      <td>0.0</td>\n",
              "    </tr>\n",
              "    <tr>\n",
              "      <th>6209</th>\n",
              "      <td>4539906</td>\n",
              "      <td>23540800</td>\n",
              "      <td>Manhattan</td>\n",
              "      <td>Hell's Kitchen</td>\n",
              "      <td>40.75381</td>\n",
              "      <td>-73.99491</td>\n",
              "      <td>Entire home/apt</td>\n",
              "      <td>205</td>\n",
              "      <td>2</td>\n",
              "      <td>0</td>\n",
              "      <td>0</td>\n",
              "      <td>0.0</td>\n",
              "      <td>1</td>\n",
              "      <td>0</td>\n",
              "      <td>0.0</td>\n",
              "    </tr>\n",
              "    <tr>\n",
              "      <th>6223</th>\n",
              "      <td>4549627</td>\n",
              "      <td>2748575</td>\n",
              "      <td>Manhattan</td>\n",
              "      <td>Hell's Kitchen</td>\n",
              "      <td>40.75506</td>\n",
              "      <td>-73.99622</td>\n",
              "      <td>Private room</td>\n",
              "      <td>129</td>\n",
              "      <td>4</td>\n",
              "      <td>0</td>\n",
              "      <td>0</td>\n",
              "      <td>0.0</td>\n",
              "      <td>1</td>\n",
              "      <td>0</td>\n",
              "      <td>0.0</td>\n",
              "    </tr>\n",
              "    <tr>\n",
              "      <th>6271</th>\n",
              "      <td>4582087</td>\n",
              "      <td>23751556</td>\n",
              "      <td>Manhattan</td>\n",
              "      <td>Hell's Kitchen</td>\n",
              "      <td>40.75835</td>\n",
              "      <td>-73.99286</td>\n",
              "      <td>Private room</td>\n",
              "      <td>200</td>\n",
              "      <td>4</td>\n",
              "      <td>0</td>\n",
              "      <td>0</td>\n",
              "      <td>0.0</td>\n",
              "      <td>1</td>\n",
              "      <td>0</td>\n",
              "      <td>0.0</td>\n",
              "    </tr>\n",
              "    <tr>\n",
              "      <th>6473</th>\n",
              "      <td>4708909</td>\n",
              "      <td>670367</td>\n",
              "      <td>Manhattan</td>\n",
              "      <td>Hell's Kitchen</td>\n",
              "      <td>40.75614</td>\n",
              "      <td>-73.99341</td>\n",
              "      <td>Entire home/apt</td>\n",
              "      <td>225</td>\n",
              "      <td>7</td>\n",
              "      <td>0</td>\n",
              "      <td>0</td>\n",
              "      <td>0.0</td>\n",
              "      <td>1</td>\n",
              "      <td>0</td>\n",
              "      <td>0.0</td>\n",
              "    </tr>\n",
              "    <tr>\n",
              "      <th>6676</th>\n",
              "      <td>4803623</td>\n",
              "      <td>24747103</td>\n",
              "      <td>Manhattan</td>\n",
              "      <td>Hell's Kitchen</td>\n",
              "      <td>40.76460</td>\n",
              "      <td>-73.98799</td>\n",
              "      <td>Entire home/apt</td>\n",
              "      <td>225</td>\n",
              "      <td>1</td>\n",
              "      <td>0</td>\n",
              "      <td>0</td>\n",
              "      <td>0.0</td>\n",
              "      <td>1</td>\n",
              "      <td>0</td>\n",
              "      <td>0.0</td>\n",
              "    </tr>\n",
              "    <tr>\n",
              "      <th>6753</th>\n",
              "      <td>4840211</td>\n",
              "      <td>24821875</td>\n",
              "      <td>Manhattan</td>\n",
              "      <td>Hell's Kitchen</td>\n",
              "      <td>40.76451</td>\n",
              "      <td>-73.98820</td>\n",
              "      <td>Private room</td>\n",
              "      <td>200</td>\n",
              "      <td>1</td>\n",
              "      <td>0</td>\n",
              "      <td>0</td>\n",
              "      <td>0.0</td>\n",
              "      <td>1</td>\n",
              "      <td>0</td>\n",
              "      <td>0.0</td>\n",
              "    </tr>\n",
              "    <tr>\n",
              "      <th>6821</th>\n",
              "      <td>4874735</td>\n",
              "      <td>516877</td>\n",
              "      <td>Manhattan</td>\n",
              "      <td>Hell's Kitchen</td>\n",
              "      <td>40.76332</td>\n",
              "      <td>-73.98630</td>\n",
              "      <td>Entire home/apt</td>\n",
              "      <td>275</td>\n",
              "      <td>2</td>\n",
              "      <td>0</td>\n",
              "      <td>0</td>\n",
              "      <td>0.0</td>\n",
              "      <td>1</td>\n",
              "      <td>0</td>\n",
              "      <td>0.0</td>\n",
              "    </tr>\n",
              "    <tr>\n",
              "      <th>6866</th>\n",
              "      <td>4907206</td>\n",
              "      <td>25264954</td>\n",
              "      <td>Manhattan</td>\n",
              "      <td>Hell's Kitchen</td>\n",
              "      <td>40.75830</td>\n",
              "      <td>-73.99001</td>\n",
              "      <td>Private room</td>\n",
              "      <td>225</td>\n",
              "      <td>1</td>\n",
              "      <td>0</td>\n",
              "      <td>0</td>\n",
              "      <td>0.0</td>\n",
              "      <td>1</td>\n",
              "      <td>0</td>\n",
              "      <td>0.0</td>\n",
              "    </tr>\n",
              "    <tr>\n",
              "      <th>6933</th>\n",
              "      <td>4967114</td>\n",
              "      <td>25605887</td>\n",
              "      <td>Manhattan</td>\n",
              "      <td>Hell's Kitchen</td>\n",
              "      <td>40.76660</td>\n",
              "      <td>-73.98475</td>\n",
              "      <td>Entire home/apt</td>\n",
              "      <td>450</td>\n",
              "      <td>1</td>\n",
              "      <td>0</td>\n",
              "      <td>0</td>\n",
              "      <td>0.0</td>\n",
              "      <td>1</td>\n",
              "      <td>0</td>\n",
              "      <td>0.0</td>\n",
              "    </tr>\n",
              "    <tr>\n",
              "      <th>7004</th>\n",
              "      <td>5031539</td>\n",
              "      <td>25974544</td>\n",
              "      <td>Manhattan</td>\n",
              "      <td>Hell's Kitchen</td>\n",
              "      <td>40.76263</td>\n",
              "      <td>-73.98870</td>\n",
              "      <td>Entire home/apt</td>\n",
              "      <td>350</td>\n",
              "      <td>1</td>\n",
              "      <td>0</td>\n",
              "      <td>0</td>\n",
              "      <td>0.0</td>\n",
              "      <td>1</td>\n",
              "      <td>0</td>\n",
              "      <td>0.0</td>\n",
              "    </tr>\n",
              "    <tr>\n",
              "      <th>7074</th>\n",
              "      <td>5104668</td>\n",
              "      <td>24915685</td>\n",
              "      <td>Manhattan</td>\n",
              "      <td>Hell's Kitchen</td>\n",
              "      <td>40.75928</td>\n",
              "      <td>-73.99036</td>\n",
              "      <td>Entire home/apt</td>\n",
              "      <td>180</td>\n",
              "      <td>1</td>\n",
              "      <td>0</td>\n",
              "      <td>0</td>\n",
              "      <td>0.0</td>\n",
              "      <td>1</td>\n",
              "      <td>0</td>\n",
              "      <td>0.0</td>\n",
              "    </tr>\n",
              "    <tr>\n",
              "      <th>7190</th>\n",
              "      <td>5257388</td>\n",
              "      <td>27212322</td>\n",
              "      <td>Manhattan</td>\n",
              "      <td>Hell's Kitchen</td>\n",
              "      <td>40.75563</td>\n",
              "      <td>-73.99424</td>\n",
              "      <td>Private room</td>\n",
              "      <td>1450</td>\n",
              "      <td>1</td>\n",
              "      <td>0</td>\n",
              "      <td>0</td>\n",
              "      <td>0.0</td>\n",
              "      <td>1</td>\n",
              "      <td>0</td>\n",
              "      <td>0.0</td>\n",
              "    </tr>\n",
              "    <tr>\n",
              "      <th>7385</th>\n",
              "      <td>5475870</td>\n",
              "      <td>22709931</td>\n",
              "      <td>Manhattan</td>\n",
              "      <td>Hell's Kitchen</td>\n",
              "      <td>40.76909</td>\n",
              "      <td>-73.98639</td>\n",
              "      <td>Private room</td>\n",
              "      <td>100</td>\n",
              "      <td>5</td>\n",
              "      <td>0</td>\n",
              "      <td>0</td>\n",
              "      <td>0.0</td>\n",
              "      <td>1</td>\n",
              "      <td>0</td>\n",
              "      <td>0.0</td>\n",
              "    </tr>\n",
              "    <tr>\n",
              "      <th>7736</th>\n",
              "      <td>5857212</td>\n",
              "      <td>8953823</td>\n",
              "      <td>Manhattan</td>\n",
              "      <td>Hell's Kitchen</td>\n",
              "      <td>40.76348</td>\n",
              "      <td>-73.99344</td>\n",
              "      <td>Private room</td>\n",
              "      <td>120</td>\n",
              "      <td>3</td>\n",
              "      <td>0</td>\n",
              "      <td>0</td>\n",
              "      <td>0.0</td>\n",
              "      <td>1</td>\n",
              "      <td>0</td>\n",
              "      <td>0.0</td>\n",
              "    </tr>\n",
              "    <tr>\n",
              "      <th>...</th>\n",
              "      <td>...</td>\n",
              "      <td>...</td>\n",
              "      <td>...</td>\n",
              "      <td>...</td>\n",
              "      <td>...</td>\n",
              "      <td>...</td>\n",
              "      <td>...</td>\n",
              "      <td>...</td>\n",
              "      <td>...</td>\n",
              "      <td>...</td>\n",
              "      <td>...</td>\n",
              "      <td>...</td>\n",
              "      <td>...</td>\n",
              "      <td>...</td>\n",
              "      <td>...</td>\n",
              "    </tr>\n",
              "    <tr>\n",
              "      <th>28205</th>\n",
              "      <td>21967615</td>\n",
              "      <td>15146492</td>\n",
              "      <td>Manhattan</td>\n",
              "      <td>Hell's Kitchen</td>\n",
              "      <td>40.76447</td>\n",
              "      <td>-73.99056</td>\n",
              "      <td>Entire home/apt</td>\n",
              "      <td>649</td>\n",
              "      <td>2</td>\n",
              "      <td>0</td>\n",
              "      <td>0</td>\n",
              "      <td>0.0</td>\n",
              "      <td>1</td>\n",
              "      <td>0</td>\n",
              "      <td>0.0</td>\n",
              "    </tr>\n",
              "    <tr>\n",
              "      <th>28397</th>\n",
              "      <td>22051863</td>\n",
              "      <td>44869463</td>\n",
              "      <td>Manhattan</td>\n",
              "      <td>Hell's Kitchen</td>\n",
              "      <td>40.76680</td>\n",
              "      <td>-73.98428</td>\n",
              "      <td>Entire home/apt</td>\n",
              "      <td>160</td>\n",
              "      <td>3</td>\n",
              "      <td>0</td>\n",
              "      <td>0</td>\n",
              "      <td>0.0</td>\n",
              "      <td>1</td>\n",
              "      <td>0</td>\n",
              "      <td>0.0</td>\n",
              "    </tr>\n",
              "    <tr>\n",
              "      <th>28556</th>\n",
              "      <td>22124017</td>\n",
              "      <td>68358695</td>\n",
              "      <td>Manhattan</td>\n",
              "      <td>Hell's Kitchen</td>\n",
              "      <td>40.75803</td>\n",
              "      <td>-73.99853</td>\n",
              "      <td>Entire home/apt</td>\n",
              "      <td>285</td>\n",
              "      <td>3</td>\n",
              "      <td>0</td>\n",
              "      <td>0</td>\n",
              "      <td>0.0</td>\n",
              "      <td>1</td>\n",
              "      <td>0</td>\n",
              "      <td>0.0</td>\n",
              "    </tr>\n",
              "    <tr>\n",
              "      <th>28566</th>\n",
              "      <td>22131954</td>\n",
              "      <td>161671480</td>\n",
              "      <td>Manhattan</td>\n",
              "      <td>Hell's Kitchen</td>\n",
              "      <td>40.76147</td>\n",
              "      <td>-73.99908</td>\n",
              "      <td>Private room</td>\n",
              "      <td>150</td>\n",
              "      <td>1</td>\n",
              "      <td>0</td>\n",
              "      <td>0</td>\n",
              "      <td>0.0</td>\n",
              "      <td>1</td>\n",
              "      <td>0</td>\n",
              "      <td>0.0</td>\n",
              "    </tr>\n",
              "    <tr>\n",
              "      <th>29038</th>\n",
              "      <td>22338901</td>\n",
              "      <td>58253835</td>\n",
              "      <td>Manhattan</td>\n",
              "      <td>Hell's Kitchen</td>\n",
              "      <td>40.75895</td>\n",
              "      <td>-73.99502</td>\n",
              "      <td>Entire home/apt</td>\n",
              "      <td>70</td>\n",
              "      <td>7</td>\n",
              "      <td>0</td>\n",
              "      <td>0</td>\n",
              "      <td>0.0</td>\n",
              "      <td>1</td>\n",
              "      <td>0</td>\n",
              "      <td>0.0</td>\n",
              "    </tr>\n",
              "    <tr>\n",
              "      <th>29413</th>\n",
              "      <td>22568033</td>\n",
              "      <td>21463260</td>\n",
              "      <td>Manhattan</td>\n",
              "      <td>Hell's Kitchen</td>\n",
              "      <td>40.76330</td>\n",
              "      <td>-73.99716</td>\n",
              "      <td>Entire home/apt</td>\n",
              "      <td>275</td>\n",
              "      <td>2</td>\n",
              "      <td>0</td>\n",
              "      <td>0</td>\n",
              "      <td>0.0</td>\n",
              "      <td>1</td>\n",
              "      <td>0</td>\n",
              "      <td>0.0</td>\n",
              "    </tr>\n",
              "    <tr>\n",
              "      <th>29474</th>\n",
              "      <td>22618211</td>\n",
              "      <td>5668546</td>\n",
              "      <td>Manhattan</td>\n",
              "      <td>Hell's Kitchen</td>\n",
              "      <td>40.75574</td>\n",
              "      <td>-73.99638</td>\n",
              "      <td>Entire home/apt</td>\n",
              "      <td>103</td>\n",
              "      <td>1</td>\n",
              "      <td>0</td>\n",
              "      <td>0</td>\n",
              "      <td>0.0</td>\n",
              "      <td>1</td>\n",
              "      <td>0</td>\n",
              "      <td>0.0</td>\n",
              "    </tr>\n",
              "    <tr>\n",
              "      <th>29933</th>\n",
              "      <td>23041312</td>\n",
              "      <td>40811074</td>\n",
              "      <td>Manhattan</td>\n",
              "      <td>Hell's Kitchen</td>\n",
              "      <td>40.76208</td>\n",
              "      <td>-73.99932</td>\n",
              "      <td>Entire home/apt</td>\n",
              "      <td>525</td>\n",
              "      <td>3</td>\n",
              "      <td>0</td>\n",
              "      <td>0</td>\n",
              "      <td>0.0</td>\n",
              "      <td>1</td>\n",
              "      <td>0</td>\n",
              "      <td>0.0</td>\n",
              "    </tr>\n",
              "    <tr>\n",
              "      <th>30860</th>\n",
              "      <td>23897524</td>\n",
              "      <td>6438952</td>\n",
              "      <td>Manhattan</td>\n",
              "      <td>Hell's Kitchen</td>\n",
              "      <td>40.76191</td>\n",
              "      <td>-73.99199</td>\n",
              "      <td>Private room</td>\n",
              "      <td>75</td>\n",
              "      <td>7</td>\n",
              "      <td>0</td>\n",
              "      <td>0</td>\n",
              "      <td>0.0</td>\n",
              "      <td>1</td>\n",
              "      <td>0</td>\n",
              "      <td>0.0</td>\n",
              "    </tr>\n",
              "    <tr>\n",
              "      <th>31758</th>\n",
              "      <td>24758512</td>\n",
              "      <td>60975812</td>\n",
              "      <td>Manhattan</td>\n",
              "      <td>Hell's Kitchen</td>\n",
              "      <td>40.75417</td>\n",
              "      <td>-73.99435</td>\n",
              "      <td>Private room</td>\n",
              "      <td>70</td>\n",
              "      <td>4</td>\n",
              "      <td>0</td>\n",
              "      <td>0</td>\n",
              "      <td>0.0</td>\n",
              "      <td>1</td>\n",
              "      <td>0</td>\n",
              "      <td>0.0</td>\n",
              "    </tr>\n",
              "    <tr>\n",
              "      <th>32220</th>\n",
              "      <td>25204010</td>\n",
              "      <td>69006953</td>\n",
              "      <td>Manhattan</td>\n",
              "      <td>Hell's Kitchen</td>\n",
              "      <td>40.76306</td>\n",
              "      <td>-73.99015</td>\n",
              "      <td>Entire home/apt</td>\n",
              "      <td>280</td>\n",
              "      <td>1</td>\n",
              "      <td>0</td>\n",
              "      <td>0</td>\n",
              "      <td>0.0</td>\n",
              "      <td>1</td>\n",
              "      <td>0</td>\n",
              "      <td>0.0</td>\n",
              "    </tr>\n",
              "    <tr>\n",
              "      <th>33541</th>\n",
              "      <td>26532770</td>\n",
              "      <td>4823737</td>\n",
              "      <td>Manhattan</td>\n",
              "      <td>Hell's Kitchen</td>\n",
              "      <td>40.75945</td>\n",
              "      <td>-73.99344</td>\n",
              "      <td>Private room</td>\n",
              "      <td>250</td>\n",
              "      <td>4</td>\n",
              "      <td>0</td>\n",
              "      <td>0</td>\n",
              "      <td>0.0</td>\n",
              "      <td>1</td>\n",
              "      <td>0</td>\n",
              "      <td>0.0</td>\n",
              "    </tr>\n",
              "    <tr>\n",
              "      <th>33703</th>\n",
              "      <td>26710580</td>\n",
              "      <td>22800762</td>\n",
              "      <td>Manhattan</td>\n",
              "      <td>Hell's Kitchen</td>\n",
              "      <td>40.76484</td>\n",
              "      <td>-73.98969</td>\n",
              "      <td>Entire home/apt</td>\n",
              "      <td>220</td>\n",
              "      <td>4</td>\n",
              "      <td>0</td>\n",
              "      <td>0</td>\n",
              "      <td>0.0</td>\n",
              "      <td>1</td>\n",
              "      <td>0</td>\n",
              "      <td>0.0</td>\n",
              "    </tr>\n",
              "    <tr>\n",
              "      <th>34672</th>\n",
              "      <td>27506090</td>\n",
              "      <td>140312311</td>\n",
              "      <td>Manhattan</td>\n",
              "      <td>Hell's Kitchen</td>\n",
              "      <td>40.75478</td>\n",
              "      <td>-73.99604</td>\n",
              "      <td>Private room</td>\n",
              "      <td>100</td>\n",
              "      <td>2</td>\n",
              "      <td>0</td>\n",
              "      <td>0</td>\n",
              "      <td>0.0</td>\n",
              "      <td>1</td>\n",
              "      <td>0</td>\n",
              "      <td>0.0</td>\n",
              "    </tr>\n",
              "    <tr>\n",
              "      <th>35545</th>\n",
              "      <td>28216267</td>\n",
              "      <td>11543355</td>\n",
              "      <td>Manhattan</td>\n",
              "      <td>Hell's Kitchen</td>\n",
              "      <td>40.76202</td>\n",
              "      <td>-73.99679</td>\n",
              "      <td>Entire home/apt</td>\n",
              "      <td>250</td>\n",
              "      <td>4</td>\n",
              "      <td>0</td>\n",
              "      <td>0</td>\n",
              "      <td>0.0</td>\n",
              "      <td>1</td>\n",
              "      <td>0</td>\n",
              "      <td>0.0</td>\n",
              "    </tr>\n",
              "    <tr>\n",
              "      <th>36148</th>\n",
              "      <td>28734815</td>\n",
              "      <td>57294304</td>\n",
              "      <td>Manhattan</td>\n",
              "      <td>Hell's Kitchen</td>\n",
              "      <td>40.76464</td>\n",
              "      <td>-73.98737</td>\n",
              "      <td>Entire home/apt</td>\n",
              "      <td>250</td>\n",
              "      <td>1</td>\n",
              "      <td>0</td>\n",
              "      <td>0</td>\n",
              "      <td>0.0</td>\n",
              "      <td>1</td>\n",
              "      <td>0</td>\n",
              "      <td>0.0</td>\n",
              "    </tr>\n",
              "    <tr>\n",
              "      <th>38124</th>\n",
              "      <td>30091592</td>\n",
              "      <td>16768238</td>\n",
              "      <td>Manhattan</td>\n",
              "      <td>Hell's Kitchen</td>\n",
              "      <td>40.75975</td>\n",
              "      <td>-73.99440</td>\n",
              "      <td>Private room</td>\n",
              "      <td>215</td>\n",
              "      <td>2</td>\n",
              "      <td>0</td>\n",
              "      <td>0</td>\n",
              "      <td>0.0</td>\n",
              "      <td>1</td>\n",
              "      <td>0</td>\n",
              "      <td>0.0</td>\n",
              "    </tr>\n",
              "    <tr>\n",
              "      <th>38826</th>\n",
              "      <td>30398902</td>\n",
              "      <td>14501006</td>\n",
              "      <td>Manhattan</td>\n",
              "      <td>Hell's Kitchen</td>\n",
              "      <td>40.76007</td>\n",
              "      <td>-73.98965</td>\n",
              "      <td>Entire home/apt</td>\n",
              "      <td>430</td>\n",
              "      <td>2</td>\n",
              "      <td>0</td>\n",
              "      <td>0</td>\n",
              "      <td>0.0</td>\n",
              "      <td>1</td>\n",
              "      <td>0</td>\n",
              "      <td>0.0</td>\n",
              "    </tr>\n",
              "    <tr>\n",
              "      <th>39021</th>\n",
              "      <td>30483778</td>\n",
              "      <td>221285123</td>\n",
              "      <td>Manhattan</td>\n",
              "      <td>Hell's Kitchen</td>\n",
              "      <td>40.75890</td>\n",
              "      <td>-73.99165</td>\n",
              "      <td>Private room</td>\n",
              "      <td>69</td>\n",
              "      <td>10</td>\n",
              "      <td>0</td>\n",
              "      <td>0</td>\n",
              "      <td>0.0</td>\n",
              "      <td>1</td>\n",
              "      <td>0</td>\n",
              "      <td>0.0</td>\n",
              "    </tr>\n",
              "    <tr>\n",
              "      <th>40422</th>\n",
              "      <td>31334292</td>\n",
              "      <td>229332180</td>\n",
              "      <td>Manhattan</td>\n",
              "      <td>Hell's Kitchen</td>\n",
              "      <td>40.75483</td>\n",
              "      <td>-73.99689</td>\n",
              "      <td>Entire home/apt</td>\n",
              "      <td>135</td>\n",
              "      <td>4</td>\n",
              "      <td>0</td>\n",
              "      <td>0</td>\n",
              "      <td>0.0</td>\n",
              "      <td>1</td>\n",
              "      <td>0</td>\n",
              "      <td>0.0</td>\n",
              "    </tr>\n",
              "    <tr>\n",
              "      <th>40437</th>\n",
              "      <td>31340743</td>\n",
              "      <td>5838825</td>\n",
              "      <td>Manhattan</td>\n",
              "      <td>Hell's Kitchen</td>\n",
              "      <td>40.75599</td>\n",
              "      <td>-73.99185</td>\n",
              "      <td>Private room</td>\n",
              "      <td>200</td>\n",
              "      <td>3</td>\n",
              "      <td>0</td>\n",
              "      <td>0</td>\n",
              "      <td>0.0</td>\n",
              "      <td>1</td>\n",
              "      <td>0</td>\n",
              "      <td>0.0</td>\n",
              "    </tr>\n",
              "    <tr>\n",
              "      <th>40459</th>\n",
              "      <td>31359630</td>\n",
              "      <td>234831342</td>\n",
              "      <td>Manhattan</td>\n",
              "      <td>Hell's Kitchen</td>\n",
              "      <td>40.75660</td>\n",
              "      <td>-73.99725</td>\n",
              "      <td>Entire home/apt</td>\n",
              "      <td>139</td>\n",
              "      <td>10</td>\n",
              "      <td>0</td>\n",
              "      <td>0</td>\n",
              "      <td>0.0</td>\n",
              "      <td>1</td>\n",
              "      <td>0</td>\n",
              "      <td>0.0</td>\n",
              "    </tr>\n",
              "    <tr>\n",
              "      <th>41076</th>\n",
              "      <td>31936078</td>\n",
              "      <td>86078176</td>\n",
              "      <td>Manhattan</td>\n",
              "      <td>Hell's Kitchen</td>\n",
              "      <td>40.76243</td>\n",
              "      <td>-73.98621</td>\n",
              "      <td>Private room</td>\n",
              "      <td>120</td>\n",
              "      <td>2</td>\n",
              "      <td>0</td>\n",
              "      <td>0</td>\n",
              "      <td>0.0</td>\n",
              "      <td>1</td>\n",
              "      <td>0</td>\n",
              "      <td>0.0</td>\n",
              "    </tr>\n",
              "    <tr>\n",
              "      <th>41319</th>\n",
              "      <td>32171104</td>\n",
              "      <td>241359293</td>\n",
              "      <td>Manhattan</td>\n",
              "      <td>Hell's Kitchen</td>\n",
              "      <td>40.76483</td>\n",
              "      <td>-73.99248</td>\n",
              "      <td>Entire home/apt</td>\n",
              "      <td>280</td>\n",
              "      <td>2</td>\n",
              "      <td>0</td>\n",
              "      <td>0</td>\n",
              "      <td>0.0</td>\n",
              "      <td>1</td>\n",
              "      <td>0</td>\n",
              "      <td>0.0</td>\n",
              "    </tr>\n",
              "    <tr>\n",
              "      <th>41332</th>\n",
              "      <td>32185974</td>\n",
              "      <td>241361740</td>\n",
              "      <td>Manhattan</td>\n",
              "      <td>Hell's Kitchen</td>\n",
              "      <td>40.75951</td>\n",
              "      <td>-73.99455</td>\n",
              "      <td>Entire home/apt</td>\n",
              "      <td>230</td>\n",
              "      <td>2</td>\n",
              "      <td>0</td>\n",
              "      <td>0</td>\n",
              "      <td>0.0</td>\n",
              "      <td>1</td>\n",
              "      <td>0</td>\n",
              "      <td>0.0</td>\n",
              "    </tr>\n",
              "    <tr>\n",
              "      <th>41333</th>\n",
              "      <td>32186503</td>\n",
              "      <td>241366983</td>\n",
              "      <td>Manhattan</td>\n",
              "      <td>Hell's Kitchen</td>\n",
              "      <td>40.76470</td>\n",
              "      <td>-73.99516</td>\n",
              "      <td>Entire home/apt</td>\n",
              "      <td>250</td>\n",
              "      <td>2</td>\n",
              "      <td>0</td>\n",
              "      <td>0</td>\n",
              "      <td>0.0</td>\n",
              "      <td>1</td>\n",
              "      <td>0</td>\n",
              "      <td>0.0</td>\n",
              "    </tr>\n",
              "    <tr>\n",
              "      <th>42321</th>\n",
              "      <td>32844370</td>\n",
              "      <td>4087531</td>\n",
              "      <td>Manhattan</td>\n",
              "      <td>Hell's Kitchen</td>\n",
              "      <td>40.76414</td>\n",
              "      <td>-73.98652</td>\n",
              "      <td>Entire home/apt</td>\n",
              "      <td>169</td>\n",
              "      <td>3</td>\n",
              "      <td>0</td>\n",
              "      <td>0</td>\n",
              "      <td>0.0</td>\n",
              "      <td>1</td>\n",
              "      <td>0</td>\n",
              "      <td>0.0</td>\n",
              "    </tr>\n",
              "    <tr>\n",
              "      <th>44324</th>\n",
              "      <td>34176229</td>\n",
              "      <td>34782150</td>\n",
              "      <td>Manhattan</td>\n",
              "      <td>Hell's Kitchen</td>\n",
              "      <td>40.76691</td>\n",
              "      <td>-73.98719</td>\n",
              "      <td>Private room</td>\n",
              "      <td>200</td>\n",
              "      <td>2</td>\n",
              "      <td>0</td>\n",
              "      <td>0</td>\n",
              "      <td>0.0</td>\n",
              "      <td>1</td>\n",
              "      <td>0</td>\n",
              "      <td>0.0</td>\n",
              "    </tr>\n",
              "    <tr>\n",
              "      <th>45029</th>\n",
              "      <td>34498360</td>\n",
              "      <td>26413356</td>\n",
              "      <td>Manhattan</td>\n",
              "      <td>Hell's Kitchen</td>\n",
              "      <td>40.75562</td>\n",
              "      <td>-73.99459</td>\n",
              "      <td>Entire home/apt</td>\n",
              "      <td>175</td>\n",
              "      <td>36</td>\n",
              "      <td>0</td>\n",
              "      <td>0</td>\n",
              "      <td>0.0</td>\n",
              "      <td>1</td>\n",
              "      <td>0</td>\n",
              "      <td>0.0</td>\n",
              "    </tr>\n",
              "    <tr>\n",
              "      <th>48264</th>\n",
              "      <td>36169764</td>\n",
              "      <td>78501032</td>\n",
              "      <td>Manhattan</td>\n",
              "      <td>Hell's Kitchen</td>\n",
              "      <td>40.76066</td>\n",
              "      <td>-73.99011</td>\n",
              "      <td>Entire home/apt</td>\n",
              "      <td>134</td>\n",
              "      <td>1</td>\n",
              "      <td>0</td>\n",
              "      <td>0</td>\n",
              "      <td>0.0</td>\n",
              "      <td>1</td>\n",
              "      <td>0</td>\n",
              "      <td>0.0</td>\n",
              "    </tr>\n",
              "  </tbody>\n",
              "</table>\n",
              "<p>161 rows × 15 columns</p>\n",
              "</div>"
            ],
            "text/plain": [
              "             id    host_id  ... availability_365 anual_income\n",
              "1119     474283     950232  ...                0          0.0\n",
              "1691     766814    4022922  ...                0          0.0\n",
              "3267    1950318   10074602  ...                0          0.0\n",
              "3451    2070290   10585956  ...                0          0.0\n",
              "3514    2101710   10717291  ...                0          0.0\n",
              "3635    2185842    6910298  ...                0          0.0\n",
              "3752    2257080    3312524  ...                0          0.0\n",
              "3808    2294663    6509406  ...                0          0.0\n",
              "3816    2298759   11741773  ...                0          0.0\n",
              "4352    2925138   14935685  ...                0          0.0\n",
              "4774    3378585   13535952  ...                0          0.0\n",
              "4858    3464727   17456385  ...                0          0.0\n",
              "4933    3533741   17791294  ...                0          0.0\n",
              "5149    3706213   10856201  ...                0          0.0\n",
              "5352    3864528   19800918  ...                0          0.0\n",
              "5841    4263488    7651028  ...                0          0.0\n",
              "6209    4539906   23540800  ...                0          0.0\n",
              "6223    4549627    2748575  ...                0          0.0\n",
              "6271    4582087   23751556  ...                0          0.0\n",
              "6473    4708909     670367  ...                0          0.0\n",
              "6676    4803623   24747103  ...                0          0.0\n",
              "6753    4840211   24821875  ...                0          0.0\n",
              "6821    4874735     516877  ...                0          0.0\n",
              "6866    4907206   25264954  ...                0          0.0\n",
              "6933    4967114   25605887  ...                0          0.0\n",
              "7004    5031539   25974544  ...                0          0.0\n",
              "7074    5104668   24915685  ...                0          0.0\n",
              "7190    5257388   27212322  ...                0          0.0\n",
              "7385    5475870   22709931  ...                0          0.0\n",
              "7736    5857212    8953823  ...                0          0.0\n",
              "...         ...        ...  ...              ...          ...\n",
              "28205  21967615   15146492  ...                0          0.0\n",
              "28397  22051863   44869463  ...                0          0.0\n",
              "28556  22124017   68358695  ...                0          0.0\n",
              "28566  22131954  161671480  ...                0          0.0\n",
              "29038  22338901   58253835  ...                0          0.0\n",
              "29413  22568033   21463260  ...                0          0.0\n",
              "29474  22618211    5668546  ...                0          0.0\n",
              "29933  23041312   40811074  ...                0          0.0\n",
              "30860  23897524    6438952  ...                0          0.0\n",
              "31758  24758512   60975812  ...                0          0.0\n",
              "32220  25204010   69006953  ...                0          0.0\n",
              "33541  26532770    4823737  ...                0          0.0\n",
              "33703  26710580   22800762  ...                0          0.0\n",
              "34672  27506090  140312311  ...                0          0.0\n",
              "35545  28216267   11543355  ...                0          0.0\n",
              "36148  28734815   57294304  ...                0          0.0\n",
              "38124  30091592   16768238  ...                0          0.0\n",
              "38826  30398902   14501006  ...                0          0.0\n",
              "39021  30483778  221285123  ...                0          0.0\n",
              "40422  31334292  229332180  ...                0          0.0\n",
              "40437  31340743    5838825  ...                0          0.0\n",
              "40459  31359630  234831342  ...                0          0.0\n",
              "41076  31936078   86078176  ...                0          0.0\n",
              "41319  32171104  241359293  ...                0          0.0\n",
              "41332  32185974  241361740  ...                0          0.0\n",
              "41333  32186503  241366983  ...                0          0.0\n",
              "42321  32844370    4087531  ...                0          0.0\n",
              "44324  34176229   34782150  ...                0          0.0\n",
              "45029  34498360   26413356  ...                0          0.0\n",
              "48264  36169764   78501032  ...                0          0.0\n",
              "\n",
              "[161 rows x 15 columns]"
            ]
          },
          "metadata": {
            "tags": []
          },
          "execution_count": 151
        }
      ]
    },
    {
      "cell_type": "code",
      "metadata": {
        "id": "e9MTFNDIjnkX",
        "colab_type": "code",
        "colab": {}
      },
      "source": [
        "selecao = airbnb['host_id'].isin(escolha)\n",
        "hosts = airbnb[selecao]"
      ],
      "execution_count": 0,
      "outputs": []
    },
    {
      "cell_type": "code",
      "metadata": {
        "id": "RMlDhOeKkJI2",
        "colab_type": "code",
        "outputId": "6dcdfb29-4859-4f94-9259-f53110b9d51a",
        "colab": {
          "base_uri": "https://localhost:8080/",
          "height": 254
        }
      },
      "source": [
        "hosts"
      ],
      "execution_count": 0,
      "outputs": [
        {
          "output_type": "execute_result",
          "data": {
            "text/html": [
              "<div>\n",
              "<style scoped>\n",
              "    .dataframe tbody tr th:only-of-type {\n",
              "        vertical-align: middle;\n",
              "    }\n",
              "\n",
              "    .dataframe tbody tr th {\n",
              "        vertical-align: top;\n",
              "    }\n",
              "\n",
              "    .dataframe thead th {\n",
              "        text-align: right;\n",
              "    }\n",
              "</style>\n",
              "<table border=\"1\" class=\"dataframe\">\n",
              "  <thead>\n",
              "    <tr style=\"text-align: right;\">\n",
              "      <th></th>\n",
              "      <th>id</th>\n",
              "      <th>name</th>\n",
              "      <th>host_id</th>\n",
              "      <th>host_name</th>\n",
              "      <th>neighbourhood_group</th>\n",
              "      <th>neighbourhood</th>\n",
              "      <th>latitude</th>\n",
              "      <th>longitude</th>\n",
              "      <th>room_type</th>\n",
              "      <th>price</th>\n",
              "      <th>minimum_nights</th>\n",
              "      <th>number_of_reviews</th>\n",
              "      <th>last_review</th>\n",
              "      <th>reviews_per_month</th>\n",
              "      <th>calculated_host_listings_count</th>\n",
              "      <th>availability_365</th>\n",
              "    </tr>\n",
              "  </thead>\n",
              "  <tbody>\n",
              "    <tr>\n",
              "      <th>1119</th>\n",
              "      <td>474283</td>\n",
              "      <td>Studio apartment by Columbus Circle</td>\n",
              "      <td>950232</td>\n",
              "      <td>Deborah</td>\n",
              "      <td>Manhattan</td>\n",
              "      <td>Hell's Kitchen</td>\n",
              "      <td>40.76487</td>\n",
              "      <td>-73.98471</td>\n",
              "      <td>Entire home/apt</td>\n",
              "      <td>117</td>\n",
              "      <td>7</td>\n",
              "      <td>0</td>\n",
              "      <td>0</td>\n",
              "      <td>0.0</td>\n",
              "      <td>1</td>\n",
              "      <td>0</td>\n",
              "    </tr>\n",
              "    <tr>\n",
              "      <th>1691</th>\n",
              "      <td>766814</td>\n",
              "      <td>Adorable Midtown West Studio!</td>\n",
              "      <td>4022922</td>\n",
              "      <td>Caitlin</td>\n",
              "      <td>Manhattan</td>\n",
              "      <td>Hell's Kitchen</td>\n",
              "      <td>40.75900</td>\n",
              "      <td>-73.99530</td>\n",
              "      <td>Entire home/apt</td>\n",
              "      <td>95</td>\n",
              "      <td>1</td>\n",
              "      <td>0</td>\n",
              "      <td>0</td>\n",
              "      <td>0.0</td>\n",
              "      <td>1</td>\n",
              "      <td>0</td>\n",
              "    </tr>\n",
              "  </tbody>\n",
              "</table>\n",
              "</div>"
            ],
            "text/plain": [
              "          id  ... availability_365\n",
              "1119  474283  ...                0\n",
              "1691  766814  ...                0\n",
              "\n",
              "[2 rows x 16 columns]"
            ]
          },
          "metadata": {
            "tags": []
          },
          "execution_count": 153
        }
      ]
    },
    {
      "cell_type": "markdown",
      "metadata": {
        "id": "a9VoH5F3pnp2",
        "colab_type": "text"
      },
      "source": [
        "Poderiamos auxiliar os hosts com uma campanha para **tirar boas fotos dos imóveis** com alguns profissionais da área, auxiliar os hosts a se **tornarem superhosts**, auxiliar na **criação de vídeos para divulgação dos benefícios de se hospedar com esses hosts**.\n",
        "Ainda poderiamos incentivar a **divulgação dos imóveis bonificando os host após a primeira reserva**. \n"
      ]
    }
  ]
}